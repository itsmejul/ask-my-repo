{
 "cells": [
  {
   "cell_type": "markdown",
   "id": "e8b980b1",
   "metadata": {},
   "source": [
    "## Notebook to test APIs without a full frontend"
   ]
  },
  {
   "cell_type": "code",
   "execution_count": 13,
   "id": "cd201407",
   "metadata": {},
   "outputs": [],
   "source": [
    "GATEWAY_URL = \"http://localhost:5000\"\n",
    "\n",
    "QDRANT_URL = \"http://localhost:6333\" #TODO make it like this using network in compose \"http://qdrant:6333\""
   ]
  },
  {
   "cell_type": "code",
   "execution_count": 61,
   "id": "77281ac8",
   "metadata": {},
   "outputs": [
    {
     "name": "stdout",
     "output_type": "stream",
     "text": [
      "b'{\"status\":\"hello\"}\\n'\n"
     ]
    }
   ],
   "source": [
    "import requests\n",
    "\n",
    "response = requests.get(GATEWAY_URL + \"/health\", None)\n",
    "print(response.content)"
   ]
  },
  {
   "cell_type": "code",
   "execution_count": 65,
   "id": "3e61bf33",
   "metadata": {},
   "outputs": [],
   "source": [
    "repo_url = \"https://github.com/itsmejul/oop4\"\n",
    "query = \"Where is the recursion in this project?\""
   ]
  },
  {
   "cell_type": "code",
   "execution_count": null,
   "id": "dd43084c",
   "metadata": {},
   "outputs": [],
   "source": []
  },
  {
   "cell_type": "code",
   "execution_count": 62,
   "id": "231c17d0",
   "metadata": {},
   "outputs": [],
   "source": [
    "# start indexing (initial request only send once)\n",
    "response = requests.post(GATEWAY_URL + \"/start-indexing\", json =  {\"query\" : \"How is the genetic algorithm implemented in this project?\", \"url\" : \"https://github.com/itsmejul/oop4\"})"
   ]
  },
  {
   "cell_type": "code",
   "execution_count": 66,
   "id": "8535e264",
   "metadata": {},
   "outputs": [
    {
     "name": "stdout",
     "output_type": "stream",
     "text": [
      "b'{\"response\":\"The recursion in this project is not immediately apparent, as the provided code seems to be a mix of HTML, JavaScript, and Java. However, upon closer inspection, we can see that the recursion is actually in the `doSearch` function in the JavaScript code.\\\\n\\\\nThe `doSearch` function is called recursively when the search index is not fully loaded. This is demonstrated by the following lines of code:\\\\n\\\\n```javascript\\\\nif (!indexFilesLoaded()) {\\\\n    updateSearchResults = function() {\\\\n        doSearch(request, response);\\\\n    }\\\\n    result.unshift(loading);\\\\n} else {\\\\n    updateSearchResults = function() {};\\\\n}\\\\n```\\\\n\\\\nIn this code, if the search index is not fully loaded, the `updateSearchResults` function is set to call `doSearch` again with the same `request` and `response` parameters. This creates a recursive loop that continues until the search index is fully loaded.\\\\n\\\\nAdditionally, in the `searchIndexWithMatcher` function, there is a recursive call to itself in the `return newResults.length <= MAX_RESULTS;` line, which is inside a `$.each` loop. This recursive call is used to search the index array with the matcher and return the results.\\\\n\\\\n```javascript\\\\nfunction searchIndexWithMatcher(indexArray, matcher, category, nameFunc) {\\\\n    if (indexArray) {\\\\n        var newResults = [];\\\\n        $.each(indexArray, function (i, item) {\\\\n            item.category = category;\\\\n            var ranking = rankMatch(matcher.exec(nameFunc(item)), category);\\\\n            if (ranking < RANKING_THRESHOLD) {\\\\n                newResults.push({ranking: ranking, item: item});\\\\n            }\\\\n            return newResults.length <= MAX_RESULTS;\\\\n        });\\\\n        return newResults.sort(function(e1, e2) {\\\\n            return e1.ranking - e2.ranking;\\\\n        }).map(function(e) {\\\\n            return e.item;\\\\n        });\\\\n    }\\\\n    return [];\\\\n}\\\\n```\\\\n\\\\nHowever, in the provided Java code, there is no explicit recursion. The Java code seems to be a part of a larger project, possibly a Java documentation generator, and does not contain any recursive function calls. \\\\n\\\\nBut, the `requestInt`, `requestDouble`, and `requestString` functions in the `UserInterface` class do contain recursive calls in the form of loops that continue to prompt the user until a valid input is provided. \\\\n\\\\n```java\\\\npublic int requestInt(String message) {\\\\n    Integer answer;\\\\n    do {\\\\n        answer = parseInt(askQuestion(message));\\\\n    } while (answer == null);\\\\n    return answer;\\\\n}\\\\n\\\\npublic int requestInt(String message, int minimum) {\\\\n    Integer answer;\\\\n    do {\\\\n        answer = parseInt(askQuestion(message), minimum);\\\\n    } while (answer == null);\\\\n    return answer;\\\\n}\\\\n\\\\npublic int requestInt(String message, int minimum, int maximum) {\\\\n    Integer answer;\\\\n    do {\\\\n        answer = parseInt(askQuestion(message), minimum, maximum);\\\\n    } while (answer == null);\\\\n    return answer;\\\\n}\\\\n\\\\npublic double requestDouble(String message) {\\\\n    Double answer;\\\\n    do {\\\\n        answer = parseDouble(askQuestion(message));\\\\n    } while (answer == null);\\\\n    return answer;\\\\n}\\\\n\\\\npublic double requestDouble(String message, double minimum) {\\\\n    Double answer;\\\\n    do {\\\\n        answer = parseDouble(askQuestion(message), minimum);\\\\n    } while (answer == null);\\\\n    return answer;\\\\n}\\\\n\\\\npublic double requestDouble(String message, double minimum, double maximum) {\\\\n    Double answer;\\\\n    do {\\\\n        answer = parseDouble(askQuestion(message), minimum, maximum);\\\\n    } while (answer == null);\\\\n    return answer;\\\\n}\\\\n\\\\npublic String requestString(String message) {\\\\n    String answer = \\\\\"\\\\\";\\\\n    do {\\\\n        answer = askQuestion(message);\\\\n        if (answer.isEmpty()) {\\\\n            System.out.println(\\\\\" Der eingegebene String darf nicht leer sein.\\\\\\\\n\\\\\");\\\\n        }\\\\n    } while (answer.isEmpty());\\\\n    return answer;\\\\n}\\\\n```\\\\n\\\\nThese functions can be considered as using a form of recursion, where the function calls itself (indirectly, through the loop) until a certain condition is met. However, this is not traditional recursion, as the function is not calling itself directly, but rather using a loop to repeat the same operation until the desired result is achieved.\"}\\n'\n"
     ]
    }
   ],
   "source": [
    "response = requests.post(GATEWAY_URL + \"/repo/query\", json =  {\"query\" : query, \"url\" : repo_url })\n",
    "print(response.content)"
   ]
  },
  {
   "cell_type": "code",
   "execution_count": 28,
   "id": "42b54974",
   "metadata": {},
   "outputs": [
    {
     "name": "stdout",
     "output_type": "stream",
     "text": [
      "b'{\"result\":{\"collections\":[{\"name\":\"e9aaf7c2485c42bf40cfe310a56b4587\"},{\"name\":\"c72237e493a80613d3330b7fb298e078\"}]},\"status\":\"ok\",\"time\":6.189e-6}'\n"
     ]
    }
   ],
   "source": [
    "res = requests.get(QDRANT_URL + \"/collections\", json = None)\n",
    "print(res.content)"
   ]
  }
 ],
 "metadata": {
  "kernelspec": {
   "display_name": "ask-my-repo-env",
   "language": "python",
   "name": "python3"
  },
  "language_info": {
   "codemirror_mode": {
    "name": "ipython",
    "version": 3
   },
   "file_extension": ".py",
   "mimetype": "text/x-python",
   "name": "python",
   "nbconvert_exporter": "python",
   "pygments_lexer": "ipython3",
   "version": "3.11.11"
  }
 },
 "nbformat": 4,
 "nbformat_minor": 5
}
