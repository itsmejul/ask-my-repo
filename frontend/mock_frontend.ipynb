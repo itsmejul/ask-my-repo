{
 "cells": [
  {
   "cell_type": "markdown",
   "id": "e8b980b1",
   "metadata": {},
   "source": [
    "## Notebook to test APIs without a full frontend"
   ]
  },
  {
   "cell_type": "code",
   "execution_count": null,
   "id": "cd201407",
   "metadata": {},
   "outputs": [],
   "source": [
    "GATEWAY_URL = \"http://localhost:5000\"\n",
    "\n",
    "QDRANT_URL = \"http://localhost:6333\" #TODO make it like this using network in compose \"http://qdrant:6333\""
   ]
  },
  {
   "cell_type": "code",
   "execution_count": 37,
   "id": "77281ac8",
   "metadata": {},
   "outputs": [
    {
     "name": "stdout",
     "output_type": "stream",
     "text": [
      "b'{\"status\":\"hello\"}\\n'\n"
     ]
    }
   ],
   "source": [
    "import requests\n",
    "\n",
    "response = requests.get(GATEWAY_URL + \"/health\", None)\n",
    "print(response.content)"
   ]
  },
  {
   "cell_type": "code",
   "execution_count": 59,
   "id": "8535e264",
   "metadata": {},
   "outputs": [
    {
     "name": "stdout",
     "output_type": "stream",
     "text": [
      "b'{\"status\":\"hello\"}\\n'\n"
     ]
    }
   ],
   "source": [
    "response = requests.post(GATEWAY_URL + \"/repo/query\", json =  {\"url\" : \"https://github.com/itsmejul/flappy-evolve\"})\n",
    "print(response.content)"
   ]
  },
  {
   "cell_type": "code",
   "execution_count": 28,
   "id": "42b54974",
   "metadata": {},
   "outputs": [
    {
     "name": "stdout",
     "output_type": "stream",
     "text": [
      "b'{\"result\":{\"collections\":[{\"name\":\"e9aaf7c2485c42bf40cfe310a56b4587\"},{\"name\":\"c72237e493a80613d3330b7fb298e078\"}]},\"status\":\"ok\",\"time\":6.189e-6}'\n"
     ]
    }
   ],
   "source": [
    "res = requests.get(QDRANT_URL + \"/collections\", json = None)\n",
    "print(res.content)"
   ]
  }
 ],
 "metadata": {
  "kernelspec": {
   "display_name": "ask-my-repo-env",
   "language": "python",
   "name": "python3"
  },
  "language_info": {
   "codemirror_mode": {
    "name": "ipython",
    "version": 3
   },
   "file_extension": ".py",
   "mimetype": "text/x-python",
   "name": "python",
   "nbconvert_exporter": "python",
   "pygments_lexer": "ipython3",
   "version": "3.11.11"
  }
 },
 "nbformat": 4,
 "nbformat_minor": 5
}
