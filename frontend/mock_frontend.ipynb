{
 "cells": [
  {
   "cell_type": "markdown",
   "id": "e8b980b1",
   "metadata": {},
   "source": [
    "## Notebook to test APIs without a full frontend"
   ]
  },
  {
   "cell_type": "code",
   "execution_count": 2,
   "id": "cd201407",
   "metadata": {},
   "outputs": [],
   "source": [
    "GATEWAY_URL = \"http://localhost:5000\"\n",
    "\n",
    "QDRANT_URL = \"http://localhost:6333\" #TODO make it like this using network in compose \"http://qdrant:6333\""
   ]
  },
  {
   "cell_type": "code",
   "execution_count": 3,
   "id": "77281ac8",
   "metadata": {},
   "outputs": [
    {
     "name": "stdout",
     "output_type": "stream",
     "text": [
      "b'{\"status\":\"hello\"}\\n'\n"
     ]
    }
   ],
   "source": [
    "import requests\n",
    "\n",
    "response = requests.get(GATEWAY_URL + \"/health\", None)\n",
    "print(response.content)"
   ]
  },
  {
   "cell_type": "code",
   "execution_count": 75,
   "id": "3e61bf33",
   "metadata": {},
   "outputs": [],
   "source": [
    "repo_url = \"https://github.com/itsmejul/oop3\"\n",
    "query = \"Where is the recursion in this project?\""
   ]
  },
  {
   "cell_type": "code",
   "execution_count": null,
   "id": "28c47170",
   "metadata": {},
   "outputs": [],
   "source": [
    "repo_url = \"https://github.com/itsmejul/flappy-evolve\"\n",
    "query = \"How is the bird jumping implemented in this project? Quote the lines of code\""
   ]
  },
  {
   "cell_type": "code",
   "execution_count": 76,
   "id": "231c17d0",
   "metadata": {},
   "outputs": [
    {
     "name": "stdout",
     "output_type": "stream",
     "text": [
      "{'status': 'indexing'}\n"
     ]
    }
   ],
   "source": [
    "# start indexing (initial request only send once)\n",
    "response = requests.post(GATEWAY_URL + \"/start-indexing\", json =  {\"query\" : \"How is the genetic algorithm implemented in this project?\", \"url\" : repo_url})\n",
    "print(response.json())"
   ]
  },
  {
   "cell_type": "code",
   "execution_count": 77,
   "id": "ce9ec463",
   "metadata": {},
   "outputs": [
    {
     "name": "stdout",
     "output_type": "stream",
     "text": [
      "{'status': 'done'}\n"
     ]
    }
   ],
   "source": [
    "# polling until index is done\n",
    "response = requests.post(GATEWAY_URL + \"/status\", json = {\"url\" : repo_url})\n",
    "print(response.json())"
   ]
  },
  {
   "cell_type": "code",
   "execution_count": 79,
   "id": "8535e264",
   "metadata": {},
   "outputs": [
    {
     "name": "stdout",
     "output_type": "stream",
     "text": [
      "b'{\"response\":\"The recursion in this project is not directly present in the provided code, but it can be inferred in the following methods:\\\\n\\\\n1. `requestInt(String message)` and its overloaded versions: \\\\n   - These methods call themselves in a do-while loop until a valid integer is entered.\\\\n\\\\n2. `requestDouble(String message)` and its overloaded versions: \\\\n   - These methods call themselves in a do-while loop until a valid double is entered.\\\\n\\\\n3. `requestString(String message)`:\\\\n   - This method calls itself in a do-while loop until a non-empty string is entered.\\\\n\\\\n4. `requestChoice(String message, String... choiceOptions)`:\\\\n   - This method calls itself in a do-while loop until a valid choice is made.\\\\n\\\\nHowever, it\\'s worth noting that this is not traditional recursion, where a method calls itself directly. Instead, it\\'s a form of iterative recursion, where a method calls itself in a loop until a certain condition is met.\\\\n\\\\nThe closest to traditional recursion is not present in the provided code, but it could be in the following places:\\\\n- In the `transformation(String)` method of the `Chiffre`, `Crypto`, and `Dechiffre` classes, if they call themselves with different parameters.\\\\n- In other classes or methods not shown in the provided code. \\\\n\\\\nTo give a more accurate answer, the code of the `transformation(String)` method and other potentially recursive methods should be examined. However, based on the provided code, there\\'s no evidence of traditional recursion.\"}\\n'\n"
     ]
    }
   ],
   "source": [
    "response = requests.post(GATEWAY_URL + \"/repo/query\", json =  {\"query\" : query, \"url\" : repo_url })\n",
    "print(response.content)"
   ]
  },
  {
   "cell_type": "code",
   "execution_count": 28,
   "id": "42b54974",
   "metadata": {},
   "outputs": [
    {
     "name": "stdout",
     "output_type": "stream",
     "text": [
      "b'{\"result\":{\"collections\":[{\"name\":\"e9aaf7c2485c42bf40cfe310a56b4587\"},{\"name\":\"c72237e493a80613d3330b7fb298e078\"}]},\"status\":\"ok\",\"time\":6.189e-6}'\n"
     ]
    }
   ],
   "source": [
    "res = requests.get(QDRANT_URL + \"/collections\", json = None)\n",
    "print(res.content)"
   ]
  }
 ],
 "metadata": {
  "kernelspec": {
   "display_name": "ask-my-repo-env",
   "language": "python",
   "name": "python3"
  },
  "language_info": {
   "codemirror_mode": {
    "name": "ipython",
    "version": 3
   },
   "file_extension": ".py",
   "mimetype": "text/x-python",
   "name": "python",
   "nbconvert_exporter": "python",
   "pygments_lexer": "ipython3",
   "version": "3.11.11"
  }
 },
 "nbformat": 4,
 "nbformat_minor": 5
}
