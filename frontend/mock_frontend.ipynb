{
 "cells": [
  {
   "cell_type": "markdown",
   "id": "e8b980b1",
   "metadata": {},
   "source": [
    "## Notebook to test APIs without a full frontend"
   ]
  },
  {
   "cell_type": "code",
   "execution_count": 2,
   "id": "cd201407",
   "metadata": {},
   "outputs": [],
   "source": [
    "GATEWAY_URL = \"http://localhost:5000\"\n",
    "\n",
    "QDRANT_URL = \"http://localhost:6333\" #TODO make it like this using network in compose \"http://qdrant:6333\""
   ]
  },
  {
   "cell_type": "code",
   "execution_count": 3,
   "id": "77281ac8",
   "metadata": {},
   "outputs": [
    {
     "name": "stdout",
     "output_type": "stream",
     "text": [
      "b'{\"status\":\"hello\"}\\n'\n"
     ]
    }
   ],
   "source": [
    "import requests\n",
    "\n",
    "response = requests.get(GATEWAY_URL + \"/health\", None)\n",
    "print(response.content)"
   ]
  },
  {
   "cell_type": "code",
   "execution_count": 75,
   "id": "3e61bf33",
   "metadata": {},
   "outputs": [],
   "source": [
    "repo_url = \"https://github.com/itsmejul/oop3\"\n",
    "query = \"Where is the recursion in this project?\""
   ]
  },
  {
   "cell_type": "code",
   "execution_count": 80,
   "id": "28c47170",
   "metadata": {},
   "outputs": [],
   "source": [
    "repo_url = \"https://github.com/itsmejul/flappy-evolve\"\n",
    "query = \"How is the bird jumping implemented in this project? Quote the lines of code\""
   ]
  },
  {
   "cell_type": "code",
   "execution_count": 81,
   "id": "231c17d0",
   "metadata": {},
   "outputs": [
    {
     "name": "stdout",
     "output_type": "stream",
     "text": [
      "{'status': 'indexing'}\n"
     ]
    }
   ],
   "source": [
    "# start indexing (initial request only send once)\n",
    "response = requests.post(GATEWAY_URL + \"/start-indexing\", json =  {\"query\" : \"How is the genetic algorithm implemented in this project?\", \"url\" : repo_url})\n",
    "print(response.json())"
   ]
  },
  {
   "cell_type": "code",
   "execution_count": 109,
   "id": "ce9ec463",
   "metadata": {},
   "outputs": [
    {
     "name": "stdout",
     "output_type": "stream",
     "text": [
      "{'status': 'done'}\n"
     ]
    }
   ],
   "source": [
    "# polling until index is done\n",
    "response = requests.post(GATEWAY_URL + \"/status\", json = {\"url\" : repo_url})\n",
    "print(response.json())"
   ]
  },
  {
   "cell_type": "code",
   "execution_count": 110,
   "id": "8535e264",
   "metadata": {},
   "outputs": [
    {
     "name": "stdout",
     "output_type": "stream",
     "text": [
      "b'{\"response\":\"The bird jumping implementation in this project can be found in the `update` method of the `Bird` class. \\\\n\\\\nHere are the lines of code that implement the bird jumping:\\\\n\\\\n```javascript\\\\nconst out = this.mlp.forward(inputs);\\\\nconsole.log(out);\\\\nif (out > 0.5) {\\\\n    this.velocity = -8; // If mlp outputs 1, the bird will jump\\\\n}\\\\n```\\\\n\\\\nIn this code, the `mlp.forward(inputs)` function calls the forward pass of the neural network with the current inputs. The output of the neural network is then checked. If the output is greater than 0.5, the bird\\'s velocity is set to -8, which causes the bird to jump. \\\\n\\\\nThe actual movement of the bird is implemented in the following lines of code:\\\\n\\\\n```javascript\\\\nthis.velocity += 0.5; // Apply gravity upwards since y-coords are inverted\\\\nthis.y += this.velocity; // Move bird according to velocity\\\\n```\\\\n\\\\nIn this code, the bird\\'s velocity is increased by 0.5 every frame to simulate gravity. The bird\\'s y-position is then updated based on its velocity. \\\\n\\\\nNote that the y-coordinates are inverted, meaning that the origin (0,0) is at the top-left corner of the canvas, and the y-coordinate increases as you move down. This is why the gravity is applied by increasing the velocity, and the bird jumps by setting the velocity to a negative value.\"}\\n'\n"
     ]
    }
   ],
   "source": [
    "response = requests.post(GATEWAY_URL + \"/repo/query\", json =  {\"query\" : query, \"url\" : repo_url })\n",
    "print(response.content)"
   ]
  },
  {
   "cell_type": "code",
   "execution_count": 28,
   "id": "42b54974",
   "metadata": {},
   "outputs": [
    {
     "name": "stdout",
     "output_type": "stream",
     "text": [
      "b'{\"result\":{\"collections\":[{\"name\":\"e9aaf7c2485c42bf40cfe310a56b4587\"},{\"name\":\"c72237e493a80613d3330b7fb298e078\"}]},\"status\":\"ok\",\"time\":6.189e-6}'\n"
     ]
    }
   ],
   "source": [
    "res = requests.get(QDRANT_URL + \"/collections\", json = None)\n",
    "print(res.content)"
   ]
  }
 ],
 "metadata": {
  "kernelspec": {
   "display_name": "ask-my-repo-env",
   "language": "python",
   "name": "python3"
  },
  "language_info": {
   "codemirror_mode": {
    "name": "ipython",
    "version": 3
   },
   "file_extension": ".py",
   "mimetype": "text/x-python",
   "name": "python",
   "nbconvert_exporter": "python",
   "pygments_lexer": "ipython3",
   "version": "3.11.11"
  }
 },
 "nbformat": 4,
 "nbformat_minor": 5
}
