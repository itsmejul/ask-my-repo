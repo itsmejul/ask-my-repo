{
 "cells": [
  {
   "cell_type": "code",
   "execution_count": null,
   "id": "a2316dfa",
   "metadata": {},
   "outputs": [
    {
     "data": {
      "text/plain": [
       "<AsyncResult: cabf6193-524e-4813-a91c-a9e2ed22b678>"
      ]
     },
     "execution_count": 1,
     "metadata": {},
     "output_type": "execute_result"
    }
   ],
   "source": [
    "from tasks.index_repo import index_repot\n",
    "index_repot.delay(\"https://github.com/itsmejul/flappy-evolve\")"
   ]
  }
 ],
 "metadata": {
  "kernelspec": {
   "display_name": "ask-my-repo-env",
   "language": "python",
   "name": "python3"
  },
  "language_info": {
   "codemirror_mode": {
    "name": "ipython",
    "version": 3
   },
   "file_extension": ".py",
   "mimetype": "text/x-python",
   "name": "python",
   "nbconvert_exporter": "python",
   "pygments_lexer": "ipython3",
   "version": "3.11.11"
  }
 },
 "nbformat": 4,
 "nbformat_minor": 5
}
