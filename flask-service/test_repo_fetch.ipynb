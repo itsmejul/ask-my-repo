{
 "cells": [
  {
   "cell_type": "code",
   "execution_count": 1,
   "id": "8e8e9a46",
   "metadata": {},
   "outputs": [],
   "source": [
    "import subprocess\n",
    "from pathlib import Path\n",
    "\n",
    "def clone_repo(repo_url: str, target_dir: str):\n",
    "    subprocess.run([\"git\", \"clone\", \"--depth\", \"1\", repo_url, target_dir], check=True)\n",
    "    tempPath = Path(target_dir)\n",
    "    gitPath = tempPath / \".git\"\n",
    "    subprocess.run([\"rm\", \"-rf\", gitPath], check=True)\n"
   ]
  },
  {
   "cell_type": "code",
   "execution_count": 2,
   "id": "c7b2a5f8",
   "metadata": {},
   "outputs": [],
   "source": [
    "def read_file_to_string(file_path: str) -> str:\n",
    "    path = Path(file_path)\n",
    "    if not path.is_file():\n",
    "        raise FileNotFoundError(f\"{file_path} is not a file.\")\n",
    "    return path.read_text(encoding=\"utf-8\", errors=\"ignore\")"
   ]
  },
  {
   "cell_type": "code",
   "execution_count": 3,
   "id": "3c2f5134",
   "metadata": {},
   "outputs": [],
   "source": [
    "def remove_first_folder(file_path: str) -> str:\n",
    "    parts = Path(file_path).parts\n",
    "    if len(parts) <= 1:\n",
    "        return file_path  # Nothing to remove\n",
    "    return str(Path(*parts[1:]))"
   ]
  },
  {
   "cell_type": "code",
   "execution_count": 9,
   "id": "f64b9159",
   "metadata": {},
   "outputs": [],
   "source": [
    "def read_dir_rec(dir_path):\n",
    "    files = dict()\n",
    "    from pathlib import Path\n",
    "    root = Path(dir_path)\n",
    "    for child in root.iterdir():\n",
    "        if child.is_file():\n",
    "            files[remove_first_folder(root / child.name)] = read_file_to_string(root / child.name)\n",
    "            print(f\"File: {root / child.name}\")\n",
    "        elif child.is_dir():\n",
    "            print(f\"Directory: {child.name}\")\n",
    "            files = files | read_dir_rec(root / child.name)\n",
    "    return files"
   ]
  },
  {
   "cell_type": "code",
   "execution_count": 12,
   "id": "5827f7e3",
   "metadata": {},
   "outputs": [],
   "source": [
    "def clone_and_read(repo_url):\n",
    "    clone_repo(repo_url=repo_url, target_dir=\"./temp\")\n",
    "    parsed_files = read_dir_rec(\"./temp\")\n",
    "    print(parsed_files)\n",
    "    subprocess.run([\"rm\", \"-rf\", \"./temp\"])"
   ]
  },
  {
   "cell_type": "code",
   "execution_count": 13,
   "id": "2a7d99d4",
   "metadata": {},
   "outputs": [
    {
     "name": "stderr",
     "output_type": "stream",
     "text": [
      "Cloning into './temp'...\n"
     ]
    },
    {
     "name": "stdout",
     "output_type": "stream",
     "text": [
      "Directory: src\n",
      "File: temp/src/pipe.js\n",
      "File: temp/src/main.js\n",
      "File: temp/src/bird.js\n",
      "File: temp/src/consts.js\n",
      "File: temp/src/mlp.js\n",
      "File: temp/src/genetic_utils.js\n",
      "File: temp/index.html\n",
      "File: temp/style.css\n",
      "File: temp/README.md\n",
      "{'src/pipe.js': 'const pipeWidth = 50;\\nconst pipeGap = 120; \\nconst spawnMargin = 20; // Margin on top/bottom to make sure pipe gap is not at the very edge of the canvas\\n\\nexport class Pipe {\\n  constructor(gapY, canvas) {\\n    this.x = canvas.width;\\n    this.gapY = gapY;\\n    this.width = pipeWidth;\\n    this.gap = pipeGap;\\n  }\\n\\n  draw(ctx, canvas) {\\n    ctx.fillStyle = \"green\";\\n    // Top part of pipe\\n    ctx.fillRect(this.x, 0, this.width, this.gapY);\\n    // Bottom part of pipe\\n    ctx.fillRect(\\n      this.x,\\n      this.gapY + this.gap,\\n      this.width,\\n      canvas.height - (this.gapY + this.gap)\\n    );\\n  }\\n\\n  // create a new pipe with random gap\\n  static spawn(canvas) {\\n    const minY = spawnMargin;\\n    const maxY = canvas.height - pipeGap - spawnMargin;\\n    const gapY = Math.random() * (maxY - minY) + minY;\\n    return new Pipe(gapY, canvas);\\n  }\\n}\\n', 'src/main.js': 'import { Pipe } from \\'./pipe.js\\';\\nimport { Bird } from \\'./bird.js\\';\\nimport { randomGenome , generateNewBirdsGenetic} from \\'./genetic_utils.js\\';\\nimport { canvas, ctx , getBirdsPerEpoch, setBirdsPerEpoch, setInputFeatures,getInputFeatures, setHiddenSize} from \\'./consts.js\\';\\n\\nconst birdX = 150; // x-position of the birds, which are constant\\nlet pipes = [];\\nlet birds = [];\\nlet frame = 0;\\nlet epoch = 1;\\nlet alive = getBirdsPerEpoch();\\nlet paused = false;\\nconst epochTextField = document.getElementById(\"epoch\"); \\nepochTextField.innerText = `Epoch ${epoch}`;\\nconst aliveTextField = document.getElementById(\"alivecount\");\\naliveTextField.innerText = `Alive: ${alive};`\\nconst scoreTextField = document.getElementById(\"score\");\\nscoreTextField.innerText = `Score: ${frame}`;\\n\\n\\n\\ndocument.addEventListener(\"DOMContentLoaded\", function(){\\n    document.getElementById(\"pauseButton\").addEventListener(\"click\", function(){changePaused()});\\n})\\n\\nfunction changePaused(){\\n    paused = !paused\\n}\\n\\ndocument.addEventListener(\"DOMContentLoaded\", function(){\\n    document.getElementById(\"restartButton\").addEventListener(\"click\",function(){ resetGame()});\\n})\\n\\nfunction getSelectedFeatures() {\\n  const checkboxes = document.querySelectorAll(\\'input[name=\"inputFeatures\"]:checked\\');\\n  let newInputFeatures = Array.from(checkboxes).map(cb => cb.value);\\n\\n  if (newInputFeatures.length === 0) {\\n    alert(\"You must select at least one input feature.\");\\n    return;\\n  }\\n  setInputFeatures(newInputFeatures);\\n  \\n  \\n}\\n\\n\\n\\nfunction initPipes() {\\n    pipes = []\\n    for(let i = -100; i < 600; i += 200){\\n        const newPipe = Pipe.spawn(canvas);\\n        newPipe.x = i;\\n        pipes.push(newPipe);\\n    }\\n}\\n\\n\\n\\n// For the first epoch, all birds genomes are random\\nfunction initBirdsRandom(){\\n    for(let i = 0; i < getBirdsPerEpoch(); i++){\\n        let bird = new Bird(canvas.height / 2, randomGenome());\\n        birds.push(bird);\\n    }\\n}\\n\\nfunction updatePipes() {\\n    // Remove Pipe that crossed x < -200 and spawn a new Pipe at x = 600 instead\\n    const beforeCount = pipes.length;\\n    pipes = pipes.filter(pipe => pipe.x > -200);\\n    if (pipes.length < beforeCount){\\n        const newPipe = Pipe.spawn(canvas);\\n        newPipe.x = 600;\\n        pipes.push(newPipe);\\n    }\\n    // Move pipes\\n    pipes.forEach(pipe => {\\n        pipe.x += -2;\\n    });\\n}\\nfunction updateBirds(){\\n    let currPipe = findCurrentPipe(); // This is always the next pipe the birds could potentially collide with\\n    const normGap = (currPipe.gapY / 600)*2 -1; // Normalize to [-1, 1] to improve MLP performance\\n    const normDist = ((currPipe.x - 100)/200) * 2 - 1;\\n\\n    birds.forEach(bird => {\\n        // Collision with current Pipe\\n        if ((birdX + bird.radius > currPipe.x) && (birdX - bird.radius < currPipe.x + currPipe.width)){\\n            if ((bird.y - bird.radius < currPipe.gapY) || (bird.y + bird.radius > currPipe.gapY + currPipe.gap)){\\n                if(bird.alive){\\n                    bird.alive = false;\\n                    bird.fitness = frame;\\n                }\\n            }\\n        }\\n        //check collision with floor or ceiling\\n        if ((bird.y < 0 ) || (bird.y > canvas.height)){\\n            if(bird.alive){\\n            bird.alive = false;\\n            bird.fitness=frame;\\n            }\\n        }\\n        // Update bird\\n        bird.update(normGap, normDist);\\n    });\\n\\n    //check if all birds died, if yes start new Epoch\\n    const aliveCount = birds.filter(b => b.alive).length;\\n    aliveTextField.innerText = `Alive: ${aliveCount}`\\n    //console.log(aliveCount);\\n    if (aliveCount == 0 || frame > 1500){ //force a new epoch every 1500 frames \\n        resetEpoch();\\n    }\\n}\\n\\nfunction resetEpoch(){\\n    initPipes();\\n    birds = generateNewBirdsGenetic(birds);\\n    epoch++;\\n    frame = 0;\\n    epochTextField.innerText = `Epoch ${epoch}`;\\n    scoreTextField.innerText = `Score: ${frame}`;\\n}\\n\\nfunction resetGame(){\\n    const newBirdsPerEpoch = document.getElementById(\"numBirdsSelect\").value;\\n    const newHiddenSize = document.getElementById(\"hiddenSizeSelect\").value;\\n    setHiddenSize(newHiddenSize);\\n    getSelectedFeatures();\\n    setBirdsPerEpoch(parseInt(newBirdsPerEpoch));\\n    //console.log(\"reset\");\\n    pipes = [];\\n    birds = [];\\n    frame = 0;\\n    epoch = 1;\\n    alive = 1000;\\n    paused = false;\\n    epochTextField.innerText = `Epoch: ${epoch}`;\\n    aliveTextField.innerText = `Alive: ${alive}`;\\n    scoreTextField.innerText = `Score: ${frame}`;\\n    initPipes();\\n    initBirdsRandom();\\n\\n}\\n\\nfunction findCurrentPipe(){\\n    for(let i = 0; i < pipes.length; i++){\\n        if (pipes[i].x > 100) {\\n            return pipes[i];\\n        }\\n    }\\n}\\n\\nfunction drawPipesAndBirds(){\\n    pipes.forEach(pipe => pipe.draw(ctx, canvas));\\n    birds.forEach(bird => bird.draw(ctx));\\n}\\n\\nfunction loop(){\\n    //console.log(paused)\\n    if(!paused){\\n\\n        ctx.clearRect(0, 0, canvas.clientWidth, canvas.height);\\n        updatePipes();\\n        updateBirds();\\n        drawPipesAndBirds();\\n        //requestAnimationFrame(loop);\\n        frame++;\\n    scoreTextField.innerText = `Score: ${frame}`;\\n    }\\n    requestAnimationFrame(loop);\\n}\\n\\ninitPipes();\\ninitBirdsRandom();\\nloop();\\n', 'src/bird.js': 'import { getInputFeatures , getHiddenSize } from \"./consts.js\";\\nimport { MLP } from \"./mlp.js\";\\n\\nconst birdRadius = 10;\\n\\n\\nexport class Bird {\\n    constructor(y, genome) {\\n        this.y = y;\\n        this.radius = birdRadius;\\n        this.genome = genome;\\n        this.velocity = 0;\\n        this.alive = true;\\n        this.fitness = 0;\\n        this.mlp = new MLP(genome, getInputFeatures().length, getHiddenSize());\\n    }\\n\\n    update(normGap, normDist){\\n        if (this.alive){\\n            let inputs = []\\n            let normY = (this.y / 600)*2 - 1;\\n            //let inputs = [this.y, this.velocity, normGap, normDist];\\n            let diff = (normGap - normY) / 2;\\n            let inputFeatures = getInputFeatures();\\n            let normVel = (this.velocity + 8) / 16 - 1; \\n            if (inputFeatures.includes(\"diff\")){\\n                inputs.push((normGap- normY) / 2);\\n            }\\n            if (inputFeatures.includes(\"cHeight\")){\\n                inputs.push(normY);\\n            }\\n            if (inputFeatures.includes(\"pHeight\")){\\n                inputs.push(normGap);\\n            }\\n            if(inputFeatures.includes(\"distance\")){\\n                inputs.push(normDist);\\n            }\\n            if(inputFeatures.includes(\"velocity\")){\\n                inputs.push(normVel); //TODO normalize velocity\\n\\n            }\\n            console.log(inputs);\\n            //inputs = [diff, normDist] // Currently best performing setup with just height difference and distance as inputs\\n            const out = this.mlp.forward(inputs);\\n            console.log(out);\\n            if (out > 0.5) {\\n                this.velocity = -8; // If mlp outputs 1, the bird will jump\\n            }\\n            this.velocity += 0.5; // Apply gravity upwards since y-coords are inverted\\n            this.y += this.velocity; // Move bird according to velocity\\n        }\\n    }\\n\\n    draw(ctx){\\n        if (this.alive){\\n            ctx.beginPath();\\n            ctx.arc(150, this.y, 10, 0, 2*Math.PI);\\n            ctx.fillStyle = \"rgba(255,0,0,0.5)\";\\n            ctx.fill();\\n        }\\n    }\\n}', 'src/consts.js': 'export const canvas = document.getElementById(\"gameCanvas\");\\nexport const ctx = canvas.getContext(\"2d\");\\n\\nlet birdsPerEpoch = 100;\\nlet inputFeatures = [\"diff\", \"distance\"];\\nlet hiddenSize = 3;\\n\\n\\nexport function getBirdsPerEpoch() { return birdsPerEpoch; }\\nexport function setBirdsPerEpoch(val) { birdsPerEpoch = val; }\\n\\nexport function getInputFeatures() { return inputFeatures; }\\nexport function setInputFeatures(val) { inputFeatures = val; }\\n\\nexport function getHiddenSize() { return hiddenSize; }\\nexport function setHiddenSize(val) { hiddenSize = val; }', 'src/mlp.js': \"// To convert output neuron to binary activation value\\nfunction sigmoid(x) {\\n    return 1 / (1 + Math.exp(-x));\\n}\\n\\nfunction relu(x) {\\n    return Math.max(0, x);\\n}\\nexport class MLP {\\n    constructor(genome, inputSize, hiddenSize) {\\n        // Genomes are array of length inputSize * hiddenSize + hiddenSize + hiddenSize * 1 + 1 (since outputSize is 1)\\n        this.inputSize = inputSize;\\n        this.hiddenSize = hiddenSize;\\n\\n        // Extract each layers weights and biases from the Genome\\n        let offset = 0;\\n        this.w1 = []; \\n        for (let i = 0; i < this.hiddenSize; i++) {\\n            this.w1.push(genome.slice(offset, offset + this.inputSize));\\n            offset += this.inputSize;\\n        }\\n\\n        this.b1 = genome.slice(offset, offset + this.hiddenSize);\\n        offset += this.hiddenSize;\\n\\n        this.w2 = genome.slice(offset, offset + this.hiddenSize);\\n        offset += this.hiddenSize;\\n\\n        this.b2 = genome[offset]; \\n    }\\n\\n    forward(inputs) {\\n        // Pass inputs through hidden layer\\n        let hidden = [];\\n        for (let i = 0; i < this.hiddenSize; i++) {\\n            let sum = this.b1[i]; // Start with biases which are extra values that don't come from the input layer\\n            for (let j = 0; j < this.inputSize; j++) {\\n                sum += this.w1[i][j] * inputs[j];\\n            }\\n            hidden.push(relu(sum));\\n        }\\n        // Pass hidden states through output layer\\n        let output = this.b2;\\n        for (let i = 0; i < this.hiddenSize; i++) {\\n            output += this.w2[i] * hidden[i];\\n        }\\n        return sigmoid(output); // Binary activation\\n    } \\n}\\n\\n\", 'src/genetic_utils.js': 'import { Bird} from \"./bird.js\";\\nimport { canvas , getBirdsPerEpoch, getHiddenSize, getInputFeatures } from \"./consts.js\";\\n    \\n// Generate a random Genome\\n// In our model, a genome is just an Array where each value is in [-1, 1] and represents one weight in the MLP\\nexport function randomGenome() {\\n  let inputSize = getInputFeatures().length;\\n  let hiddenSize = getHiddenSize();\\n  let l = inputSize * hiddenSize + hiddenSize + hiddenSize * 1 + 1;\\n  return Array.from({ length: l }, () => Math.random() * 2 - 1);\\n}\\n\\nfunction crossover(g1, g2) {\\n  // For each of our features, pick it randomly from either parent\\n  const child = g1.map((g, i) => (Math.random() < 0.5 ? g : g2[i]));\\n  return mutate(child);  //mutate resulting child\\n}\\n// Randomly change some features slightly\\nfunction mutate(genome) {\\n  return genome.map(w =>\\n    Math.random() < 0.1\\n      ? w + (Math.random() * 2 - 1) * 0.1\\n      : w\\n  );\\n}\\nexport function generateNewBirdsGenetic(birds){\\n    const nextGen = [];\\n    //sort birds by fitness\\n    const sortedBirds = birds.slice()\\n    .sort((a, b) => b.fitness - a.fitness);\\n\\n    //best ten birds stay the same\\n    for (let i = 0; i < 0; i ++){\\n        nextGen.push(sortedBirds[0], sortedBirds[1]);\\n    }\\n    // Filter top 10 birds genomes\\n    const topGenomes = sortedBirds.slice(0, 10).map(bird => bird.genome);\\n    // Run crossover\\n    while (nextGen.length < getBirdsPerEpoch()) {\\n    \\n        const parent1 = topGenomes[Math.floor(Math.random() * topGenomes.length)];\\n        const parent2 = topGenomes[Math.floor(Math.random() * topGenomes.length)];\\n        nextGen.push(new Bird(canvas.height / 2, crossover(parent1, parent2)));\\n    }\\n    birds = [];\\n    birds = nextGen;\\n    return birds;\\n}', 'index.html': '<!DOCTYPE html>\\n<html>\\n<head>\\n  <title>Flappy Evolve</title>\\n  <style>\\n    canvas { border:1px solid black; display:block; margin:auto }\\n  </style>\\n  \\n  <link rel=\"stylesheet\" href=\"style.css\" >\\n</head>\\n<body>\\n  <div class=\"wrapper\">\\n  <div class=\"panel\">\\n  <canvas id=\"gameCanvas\" width=\"600\" height=\"600\"></canvas>\\n  </div>\\n  <div class=\"panel\">\\n  <p id=\"epoch\"></p>\\n  <p id=\"alivecount\"></p>\\n  <p id = \"score\"></p>\\n  <button id=\"pauseButton\">Play/Pause</button>\\n    <div class=\"subpanel\">\\n    <div class=\"subpanel-title\">Change Simulation Parameters</div>\\n  <label for=\"numBirdsSelect\">Number of birds per epoch:</label>\\n  <select id=\"numBirdsSelect\">\\n    <option value=\"50\">50</option>\\n    <option value=\"100\">100</option>\\n    <option value=\"200\">200</option>\\n  </select>\\n  <label for=\"hiddenSizeSelect\">Size of MLP hidden layer:</label>\\n  <select id=\"hiddenSizeSelect\">\\n    <option value=\"2\">2</option>\\n    <option value=\"3\">3</option>\\n    <option value=\"4\">4</option>\\n    <option value=\"5\">5</option>\\n  </select>\\n  <div class=\"subpanel-title\">Select input features</div>\\n  <form id=\"inputFeaturesSelect\">\\n    <label><input type=\"checkbox\" name=\"inputFeatures\" value=\"cHeight\">Bird height</label><br>\\n    <label><input type=\"checkbox\" name=\"inputFeatures\" value=\"pHeight\">Next pipe height</label><br>\\n    <label><input type=\"checkbox\" name=\"inputFeatures\" value=\"distance\" checked>Distance to next pipe</label><br>\\n    <label><input type=\"checkbox\" name=\"inputFeatures\" value=\"diff\" checked>Height difference to next pipe</label><br>\\n    <label><input type=\"checkbox\" name=\"inputFeatures\" value=\"velocity\" unchecked>Bird velocity</label><br>\\n  </form>\\n\\n  <p>Restart the simulation for changed parameters to take effect</p>\\n  <button id=\"restartButton\">Restart</button>\\n  <script type=\"module\" src=\"./src/main.js\"></script>\\n  </div>\\n  </div>\\n  <link rel=\"icon\" href=\"data:,\">\\n</body>\\n</html>\\n\\n', 'style.css': 'body {\\n  background-color: #eaeaea;\\n  font-family: monospace;\\n}\\n.wrapper {\\n    margin: auto;\\n    display: flex;\\n    align-items: stretch; /* ensures same height */\\n    gap: 1em;\\n    justify-content: center;\\n}\\ncanvas {\\n  display: block;\\n  width: 600px;\\n  height: 600px;\\n}\\n.canvas-div {\\n  display: inline-block;\\n  width: 600px;\\n  margin: 2em auto;\\n  padding: 1.5em;\\n  background-color: #fff;\\n  border: 2px solid #000;\\n  border-radius: 0;\\n  box-shadow: 4px 4px 0 #000;\\n  color: #111;\\n}\\n\\n.panel {\\n  display: inline-block;\\n  width: 600px;\\n  margin: 2em 0;\\n  padding: 1.5em;\\n  background-color: #fff;\\n  border: 2px solid #000;\\n  border-radius: 0;\\n  box-shadow: 4px 4px 0 #000;\\n  color: #111;\\n}\\n\\n.subpanel {\\n  margin-top: 1.2em;\\n  padding: 1em;\\n  border: 2px dashed #444;\\n  background-color: #fdfdfd;\\n}\\n\\n.subpanel-title {\\n  font-weight: bold;\\n  margin-bottom: 0.5em;\\n  border-bottom: 1px solid #444;\\n  padding-bottom: 0.2em;\\n}\\n\\np {\\n  margin: 0.5em 0;\\n}\\n\\nlabel {\\n  display: block;\\n  margin: 0.4em 0;\\n}\\n\\nselect {\\n  display: block;\\n  width: 100%;\\n  margin-top: 0.2em;\\n  margin-bottom: 1em;\\n  padding: 0.3em;\\n  border: 1px solid #000;\\n  background-color: #fefefe;\\n  font-family: monospace;\\n}\\n\\ninput[type=\"checkbox\"] {\\n  margin-right: 0.5em;\\n}\\n\\nbutton {\\n  font-family: monospace;\\n  background-color: #ccc;\\n  border: 2px solid #000;\\n  padding: 0.4em 1em;\\n  margin-top: 1em;\\n  cursor: pointer;\\n  box-shadow: 2px 2px 0 #000;\\n}\\n\\nbutton:hover {\\n  background-color: #bbb;\\n}\\n', 'README.md': '# Flappy-Evolve\\nAn implementation of the genetic algorithm for learning Flappy Bird, using plain HTML and JavaScript.\\nTry it out here:  \\nhttps://itsmejul.github.io/flappy-evolve/\\n\\n## Running locally\\nYou can clone this repo via  \\n```\\ngit clone git@github.com:itsmejul/flappy-evolve.git\\n```\\nThen, run it by starting a http server, for example using python:\\n```\\npython -m http.server 8000\\n```\\nAnd then visit ``http://localhost:8000`` in your browser to see the simulation.\\n\\n## Evolution of the birds\\nEach \"bird\" consists of a small MLP with just one hidden layer, which will, during inference, receive the selected input features as inputs. The MLP has one output neuron where we use a sigmoid function to decide whether it should activate or not, based on the inputs. We run this inference once every frame for every bird.\\nThe genome of each bird is represented by an Array of length (input_size*hidden_size + hidden_size + hidden_size * output_size * output_size), which contains all the weights for the weights and biases.\\nEach epoch, we save the score (how long did a bird survive?) for each bird, and then run the genetic algorithm accordingly.\\n## Algorithm\\nFor the first epoch, all genomes are created randomly. For each folliowing epoch, we create the next generation by running the genetic algorithm, which consists of these steps:\\n* Selection: We select the top-k best performing individuals\\n* Crossover: We breed the next generation by pickung two parents from the selected top-k birds, and then randomly combining their weights\\n* Mutation: Finally, for each weight in each genome, there is a small chance that it will be modified by a small value\\n\\n## Challenges\\nIt is not trivial to find a balance between more mutation per epoch and more stable epochs.\\nIf the birds converge too fast (because there is not enough variety in the crossover parents or not enough mutation), then there is a high likelihood to land in a local\\nminimum. In that case, the parameters are too strict and it is not possible for the birds to mutate in a way to leave that local minimum.\\n\\nOn the other hand, if we allow too much mutation, we might not converge at all, even if we find a \"perfect\" individual. In this case, some percentage of the population will die at the start of every epoch, because the random mutations can produce individuals which perform worse than the best-performing individuals of the previous generation.\\n'}\n"
     ]
    }
   ],
   "source": [
    "clone_and_read(\"https://github.com/itsmejul/flappy-evolve\")"
   ]
  }
 ],
 "metadata": {
  "kernelspec": {
   "display_name": "base",
   "language": "python",
   "name": "python3"
  },
  "language_info": {
   "codemirror_mode": {
    "name": "ipython",
    "version": 3
   },
   "file_extension": ".py",
   "mimetype": "text/x-python",
   "name": "python",
   "nbconvert_exporter": "python",
   "pygments_lexer": "ipython3",
   "version": "3.12.9"
  }
 },
 "nbformat": 4,
 "nbformat_minor": 5
}
