{
 "cells": [
  {
   "cell_type": "code",
   "execution_count": 46,
   "id": "96836300",
   "metadata": {},
   "outputs": [],
   "source": [
    "import os\n",
    "from dotenv import load_dotenv\n",
    "\n",
    "load_dotenv()  # Loads env from .env file\n",
    "\n",
    "GROQ_API_KEY = os.getenv(\"GROQ_API_KEY\")\n",
    "\n",
    "if not GROQ_API_KEY:\n",
    "    raise ValueError(\"Missing GROQ_API_KEY\")\n",
    "\n"
   ]
  },
  {
   "cell_type": "code",
   "execution_count": 47,
   "id": "8f176dfc",
   "metadata": {},
   "outputs": [],
   "source": [
    "from git import Repo  # pip install gitpython\n",
    "\n",
    "#Repo.clone_from(\"https://github.com/itsmejul/flappy-evolve\", \"./dir\")\n",
    "#Repo.clone_from(\"https://github.com/syn-ce/juliasetexplorer\", \"./temp\")"
   ]
  },
  {
   "cell_type": "code",
   "execution_count": 48,
   "id": "8e8e9a46",
   "metadata": {},
   "outputs": [],
   "source": [
    "import subprocess\n",
    "from pathlib import Path\n",
    "\n",
    "def clone_repo(repo_url: str, target_dir: str):\n",
    "    #subprocess.run([\"git\", \"clone\", \"--depth\", \"1\", repo_url, target_dir], check=True, stdout=subprocess.DEVNULL,stderr=subprocess.DEVNULL)\n",
    "    #tempPath = Path(target_dir)\n",
    "    #gitPath = tempPath / \".git\"\n",
    "    #subprocess.run([\"rm\", \"-rf\", gitPath], check=True, stdout=subprocess.DEVNULL, stderr=subprocess.DEVNULL)\n",
    "\n",
    "    from git import Repo\n",
    "    Repo.clone_from(repo_url, target_dir)"
   ]
  },
  {
   "cell_type": "code",
   "execution_count": 49,
   "id": "c7b2a5f8",
   "metadata": {},
   "outputs": [],
   "source": [
    "def read_file_to_string(file_path: str) -> str:\n",
    "    path = Path(file_path)\n",
    "    if not path.is_file():\n",
    "        raise FileNotFoundError(f\"{file_path} is not a file.\")\n",
    "    return path.read_text(encoding=\"utf-8\", errors=\"ignore\")"
   ]
  },
  {
   "cell_type": "code",
   "execution_count": 50,
   "id": "3c2f5134",
   "metadata": {},
   "outputs": [],
   "source": [
    "def remove_first_folder(file_path: str) -> str:\n",
    "    parts = Path(file_path).parts\n",
    "    if len(parts) <= 1:\n",
    "        return file_path  # Nothing to remove\n",
    "    return str(Path(*parts[1:]))"
   ]
  },
  {
   "cell_type": "code",
   "execution_count": 51,
   "id": "f64b9159",
   "metadata": {},
   "outputs": [],
   "source": [
    "def read_dir_rec(dir_path):\n",
    "    files = dict()\n",
    "    from pathlib import Path\n",
    "    root = Path(dir_path)\n",
    "    for child in root.iterdir():\n",
    "        if child.is_file():\n",
    "            print(\"A\")\n",
    "            files[remove_first_folder(root / child.name)] = read_file_to_string(root / child.name)\n",
    "            print(f\"File: {root / child.name}\")\n",
    "        elif child.is_dir():\n",
    "            print(f\"Directory: {child.name}\")\n",
    "            files = files | read_dir_rec(root / child.name)\n",
    "    return files"
   ]
  },
  {
   "cell_type": "code",
   "execution_count": 52,
   "id": "bc120626",
   "metadata": {},
   "outputs": [],
   "source": [
    "\n",
    "from llama_index.core.schema import TextNode\n",
    "from llama_index.core.vector_stores import SimpleVectorStore\n",
    "from llama_index.core.storage.storage_context import StorageContext\n",
    "from llama_index.llms.ollama import Ollama\n",
    "from llama_index.core.indices import VectorStoreIndex, load_index_from_storage"
   ]
  },
  {
   "cell_type": "code",
   "execution_count": 53,
   "id": "9b773c12",
   "metadata": {},
   "outputs": [],
   "source": [
    "from llama_index.embeddings.huggingface import HuggingFaceEmbedding\n",
    "from llama_index.core import Settings\n",
    "\n",
    "Settings.embed_model = HuggingFaceEmbedding(\n",
    "    model_name=\"BAAI/bge-small-en-v1.5\"\n",
    ")\n",
    "# Set the embedding model, we do this only once when we start the backend"
   ]
  },
  {
   "cell_type": "code",
   "execution_count": 54,
   "id": "a8306768",
   "metadata": {},
   "outputs": [],
   "source": [
    "def read_directory_documents(path):\n",
    "    from llama_index.core import SimpleDirectoryReader\n",
    "\n",
    "    documents = SimpleDirectoryReader(\"./temp\").load_data()\n",
    "    return documents"
   ]
  },
  {
   "cell_type": "code",
   "execution_count": 55,
   "id": "f80629bc",
   "metadata": {},
   "outputs": [],
   "source": [
    "def create_index(documents):\n",
    "\n",
    "\n",
    "    # Create the index\n",
    "    vector_store = SimpleVectorStore() # TODO maybe use a more capable vector store like qdrant? \n",
    "    storage_context = StorageContext.from_defaults(vector_store=vector_store)\n",
    "    llm = Ollama(model=\"gemma3:4b\", request_timeout=300)#, base_url=\"http://172.26.44.37:11434\") # \n",
    "\n",
    "    index = VectorStoreIndex(documents)\n",
    "\n",
    "    # Store index in directory\n",
    "    index.storage_context.persist(persist_dir=\"./index\")"
   ]
  },
  {
   "cell_type": "code",
   "execution_count": 56,
   "id": "ba572343",
   "metadata": {},
   "outputs": [],
   "source": [
    "def create_index_old(files_dict):\n",
    "\n",
    "    # Convert dict into list, concatenate file names and contents into one string\n",
    "    documents = [\n",
    "        {\n",
    "            \"path\": name,\n",
    "            \"text\": f\"FILE PATH: \\n{name}, \\nFILE CONTENT: \\n{content}\"\n",
    "        }\n",
    "        for name, content in files_dict.items()\n",
    "    ]\n",
    "\n",
    "    # Load documents into textnodes\n",
    "    text_nodes = []\n",
    "    for d in documents:\n",
    "        new_node = TextNode(text=d[\"text\"], metadata={\"path\" : d[\"path\"]})\n",
    "        text_nodes.append(new_node)\n",
    "\n",
    "    # Create the index\n",
    "    vector_store = SimpleVectorStore() # TODO maybe use a more capable vector store like qdrant? \n",
    "    storage_context = StorageContext.from_defaults(vector_store=vector_store)\n",
    "    llm = Ollama(model=\"gemma3:4b\", request_timeout=300)#, base_url=\"http://172.26.44.37:11434\") # \n",
    "\n",
    "    index = VectorStoreIndex(text_nodes)\n",
    "\n",
    "    # Store index in directory\n",
    "    index.storage_context.persist(persist_dir=\"./index\")"
   ]
  },
  {
   "cell_type": "code",
   "execution_count": 57,
   "id": "18c6436f",
   "metadata": {},
   "outputs": [],
   "source": [
    "def query_index(query):\n",
    "    storage_context = StorageContext.from_defaults(persist_dir=\"./index\")\n",
    "    index = load_index_from_storage(storage_context)\n",
    "    #query=\"What are the methods that make up the genetic algorithm?\"\n",
    "    #query = \"How did they center the div?\"\n",
    "    #query = \"how does the game loop work?\"\n",
    "    \n",
    "    retriever_engine = index.as_retriever(similarity_top_k=10)\n",
    "    retrieval_results = retriever_engine.retrieve(query)\n",
    "    retrieved_drawing_ids = [n.node.metadata[\"file_path\"] for n in retrieval_results]\n",
    "    print(retrieved_drawing_ids)\n",
    "    print([n.node.text for n in retrieval_results][:3])\n",
    "    top_3_results = [n.node.text for n in retrieval_results][:3]\n",
    "    return top_3_results"
   ]
  },
  {
   "cell_type": "code",
   "execution_count": 58,
   "id": "d7be7dc3",
   "metadata": {},
   "outputs": [],
   "source": [
    "def query_llm(retrieval_results, query):\n",
    "    context = \"\"\n",
    "    for result in retrieval_results:\n",
    "        context += result\n",
    "    from groq import Groq\n",
    "    client = Groq() # Loads the API key automatically from the environment variable\n",
    "    completion = client.chat.completions.create(\n",
    "        model=\"llama-3.3-70b-versatile\",\n",
    "        messages=[\n",
    "            {\n",
    "                \"role\": \"user\",\n",
    "                \"content\": f\"{context}\\n {query}\"\n",
    "            }\n",
    "        ]\n",
    "    )\n",
    "    print(completion.choices[0].message.content)"
   ]
  },
  {
   "cell_type": "code",
   "execution_count": 59,
   "id": "5827f7e3",
   "metadata": {},
   "outputs": [],
   "source": [
    "def clone_and_read(repo_url, query):\n",
    "    clone_repo(repo_url=repo_url, target_dir=\"./temp\")\n",
    "    #parsed_files = read_dir_rec(\"./temp\")\n",
    "    #print(parsed_files)\n",
    "    documents = read_directory_documents(\"./temp\")\n",
    "    create_index(documents)\n",
    "    retrieval_results = query_index(query)\n",
    "    llm_response = query_llm(query, retrieval_results)\n",
    "    \n",
    "    subprocess.run([\"rm\", \"-rf\", \"./temp\"])"
   ]
  },
  {
   "cell_type": "code",
   "execution_count": 64,
   "id": "142d23b9",
   "metadata": {},
   "outputs": [
    {
     "name": "stdout",
     "output_type": "stream",
     "text": [
      "['/home/julian/dev/ask-my-repo/flask-service/temp/README.md']\n",
      "['# Julia Set Explorer\\n\\nThis project allows for the exploration of Julia sets in real time.\\nIf you are in need of a screensaver look no further, there are plenty to find here.\\n\\nTry it yourself: [click me](https://syn-ce.github.io/JuliaSetExplorer/)\\n\\nOr skip ahead to the [Gallery](#gallery)\\n\\nThis is still **very much a work in progress** and there\\'s a lot left to do, but most of the initially planned features have already been implemented. There are still a couple of bugs in need of fixing as well as a lot of yet-to-be-made considerations for the overall UX, escpecially considering information about what the individual settings and parameters do. If you find yourself struggling to figure out what something does or what it\\'s used for, I have made an effort to lay out most explanations in this README, so you\\'ll probably find a [section](#table-of-contents) dedicated to it.\\nOn the developer\\'s side some things have gotten a bit messy over time so there\\'s a lot of room for cleaning. I plan on tidying everything up once I find the time to do so.\\nNotice that for the time being there is **no support for mobile devices**.\\n\\n# Table of contents\\n\\n[What am I even looking at? - Mandelbrot and Julia](#mandelbrot-and-julia) <br>\\n&nbsp;&nbsp;&nbsp;&nbsp;[The Mandelbrot set](#the-mandelbrot-set) <br>\\n&nbsp;&nbsp;&nbsp;&nbsp;[Julia sets](#julia-sets) <br>\\n[Usage](#usage) <br>\\n&nbsp;&nbsp;&nbsp;&nbsp;[General](#general) <br>\\n&nbsp;&nbsp;&nbsp;&nbsp;&nbsp;&nbsp;&nbsp;&nbsp;[Shortcuts / Settings](#shortcuts--settings) <br>\\n&nbsp;&nbsp;&nbsp;&nbsp;[Saving Images](#saving-images) <br>\\n&nbsp;&nbsp;&nbsp;&nbsp;[Filenames](#filenames) <br>\\n&nbsp;&nbsp;&nbsp;&nbsp;[Pasting Images](#pasting-images) <br>\\n&nbsp;&nbsp;&nbsp;&nbsp;[Loading random Julia sets](#loading-random-julia-sets) <br>\\n&nbsp;&nbsp;&nbsp;&nbsp;&nbsp;&nbsp;&nbsp;&nbsp;[Random](#loading-random-julia-sets) <br>\\n&nbsp;&nbsp;&nbsp;&nbsp;&nbsp;&nbsp;&nbsp;&nbsp;[Selected](#loading-random-julia-sets) <br>\\n&nbsp;&nbsp;&nbsp;&nbsp;&nbsp;&nbsp;&nbsp;&nbsp;[Community](#loading-random-julia-sets) <br>\\n[Parameters](#parameters) <br>\\n&nbsp;&nbsp;&nbsp;&nbsp;[Julia Coordinates (c value of the Julia set)](#julia-coordinates-c-value-of-the-julia-set) <br>\\n&nbsp;&nbsp;&nbsp;&nbsp;[Escape Radius](#escape-radius) <br>\\n&nbsp;&nbsp;&nbsp;&nbsp;[Exponent](#exponent) <br>\\n&nbsp;&nbsp;&nbsp;&nbsp;[Number of Iterations](#number-of-iterations) <br>\\n&nbsp;&nbsp;&nbsp;&nbsp;[Color](#color) <br>\\n[Double precision using CPU Rendering](#double-precision-using-cpu-rendering) <br>\\n&nbsp;&nbsp;&nbsp;&nbsp;[Avoiding pixelation with CPU rendering](#avoiding-pixelation-with-cpu-rendering) <br>\\n[Gallery](#gallery) <br>\\n\\n## Mandelbrot and Julia\\n\\n### The Mandelbrot set\\n\\nIf you are already familiar with the Mandelbrot set, you may skip this section and jump ahead to the [next one](#julia-sets).\\n\\nAt the basis of this entire project lies one uncomplicated formula: $$z_{n+1}=z_n^2+c$$\\nwhere both $z$ and $c$ are complex numbers.\\nThe Mandelbrot set consists of all complex points $c=x+iy$ for which the above sequence starting with $z_0=0$ does not diverge to infinity for $n\\\\rightarrow\\\\infty$.\\nAll of the points contained in the Mandelbrot set are colored black. The coloring of the other points follows some arbitrary coloring function, usually based on the \"time\" it takes the series to \"diverge to infinity\" based on the particular point $c$.\\n\\n### Julia sets\\n\\nJulia sets are defined using the same sequence of complex numbers as the Mandelbrot set:\\n$$z_{n+1}=z_n²+c$$\\nThe only difference is that instead of asking for which $c$ the series diverges to infinity starting at $z_0=0$, we instead fixate the $c$ and ask for which starting points $z_0=x+iy$ the series diverges to infinity.\\n\\n# Usage\\n\\n## General\\n\\nBoth the Mandelbrot set on the left and the Julia set on the right will be rendered using the parameters configured by you.\\n\\nYou can interact with them by panning and zooming. The dot rendered on top of the Mandelbrot set is the indicator for the coordinates of the current $c$ value used for rendering the Julia set. By default, that point will follow your mouse when hovering over the Mandelbrot set. This behavior can be (de-)activated by pressing the \"f\" key on your keyboard. You can also adjust the current $c$ value by directly entering values into the corresponding inputs.\\n\\n![](/imgs/usagePictures/usagePicture.jpg)\\n\\n### Shortcuts / Settings\\n\\n| Key | Action                                            |\\n| :-: | ------------------------------------------------- |\\n|  f  | start/stop the $c$ value from following the mouse |\\n|  s  | open/close preview for saving image               |\\n|  i  | open/close info-modal                             |\\n|  h  | hide/show user interface                          |\\n|  r  | start/stop random movement of $c$ value           |\\n|  t  | generate random Julia set                         |\\n|     | send and load Julia sets (community)              |\\n\\nIn case you ever need a refresher on the shortcuts or want to enable/disable any of the options simply click the question mark in the lower right corner of the screen or press the \"i\" key on your keyboard. This will open a modal listing all available keyboard-shortcuts.\\n\\n## Saving Images\\n\\nAll generated Julia sets can be downloaded in PNG-format in arbitrary resolution (in practice, your browser probably won\\'t like allocating a gigabyte of memory for a single tab so maybe don\\'t go beyond the limits).\\n\\nIn order to save an image, click on the corresponding button or press the \"s\"-key on your keyboard. This will open a preview in which you can adjust the center of the image, the zoom, the resolution, and turn on [CPU rendering](#avoiding-pixelation-with-cpu-rendering). You can center any point of the Julia set in the preview by double-clicking it.\\n\\nOnce you are satisfied with how things are looking, start rendering the final image by pressing the associated button. Once the image has been rendered, it will be downloaded.\\n\\nIf you are making use of CPU rendering this will take some time. A progress bar and an estimate of the remaining time will act as indicators.\\nIf you don\\'t use CPU rendering (which is advised if it\\'s not necessary) the render should, under most circumstances, finish after no longer than a couple of seconds at most and usually be perceived as instantaneous.\\n\\nBy default the resolution should be set to match the resolution of your monitor. If that\\'s not the case or you would like to change the resolution of the downloaded image for some other reason, you can do so by entering the values into the corresponding inputs. The preview will automatically try to adjust to display the correct aspect ratio. If the preview gets too small, it will try to resize itself to take up more space. However, it will only try to do so when the preview can fit on the screen. If the aspect ratio is very out of the ordinary (i.e. something like 50:1) it is very likely that the preview will extend beyond the bounds of the screen and not adjust its size.\\n\\nNote that changing the resolution will not affect the quality of the image in the preview, meaning that there will be no visual difference between the preview of an image with resolution 3072x1920 (aspect ratio 16:10) and that of an image with a resolution of 1920x1200 (16:10 as well). The resulting image will of course be rendered in the desired resolution.\\n\\n![example screenshot of the editor for / preview of the image to download](/imgs/controlsUI/downloadEditorAndPreview.jpg)\\n\\n```\\nJuliaSet_183_34_185_300_2_100_-1.0174876847290641_0.3214285714285714_0_0_1.7490062499999994_SC_LC_0.png\\n```\\n\\n## Filenames\\n\\nAll downloaded Julia sets will have a filename in a very particular format:\\n\\n```\\nJuliaSet_RGB.R_RGB.G_RGB.B_NrIterations_Exponent_EscapeRadius_JuliaCoordX_JuliaCoordY_DownloadCenterX_DownloadCenterY_ZoomLevel_[COLOR-SETTINGS]_CPURendering.png\\n```\\n\\nwhere\\n\\n-   `JuliaCoordX` and `JuliaCoordY` represent the $c$-value of the Julia set ($c=x+iy$)\\n-   `DownloadCenterX` and `DownloadCenterY` represent the coordinates of the center of the Julia image\\n-   `[COLOR-SETTINGS]` is an underscore-separated list containing any combination of the following color-options: `SC, SO, LC, NL1, NL2` representing Smooth Coloring, Static Orange, Linear RGB, Nonlinear 1 and Nonlinear 2.\\n-   `CPURendering` is either of value 0 (CPU rendering off) or 1 (CPU rendering on). Note that because of performance reasons this is the only value which will always be set to 0 when [pasting Julia sets](#pasting-images), no matter the actual value in the filename. For more information, see [CPU rendering](#avoiding-pixelation-with-cpu-rendering)\\n\\nFor more information refer to the [Parameters](#parameters)-section below.\\n\\n## Pasting Images\\n\\nAll downloaded Julia sets can be pasted into the browser to immediately restore the state from when the image was downloaded. This is especially useful when the Julia set needs to be rendered in a different resolution, color or when other arbitrary adjustments have to be made.\\n\\nAny Julia set can be pasted by either\\n\\n-   pasting the downloaded image or\\n-   pasting the filename of the downloaded image.\\n\\nPlease note that even when pasting the actual image, the **only thing taken into consideration is the filename**. Therefore the filename has to be the original one in the proprietary format - the only reason the pasting via the image itself is at all possible is because of convenience: Usually it will be faster to copy the image than to extract the filename.\\n\\nFor this purpose the filenames of the images of the Julia sets in this README are available below the images for convenient copying.\\n\\n## Loading random Julia sets\\n\\nIn the download preview (opened by pressing \"s\" or clicking the \"Save as png\"-button in the upper right corner of the screen) there are three more options to generate Julia sets:\\n\\n### Random\\n\\n\"Random\" generates all parameters for the Julia set at random.\\n\\n### Selected\\n\\n_Please note that this feature is currently unavailable._\\n\"Selected\" will send a request to a server and load the parameters of a random Julia set out of a predetermined selection of particularly interesting Julia sets.\\n\\n### Community\\n\\n_Please note that this feature is currently unavailable._\\nCommunity\" will also send a request to a server but instead of choosing from a predetermined selection of Julia sets, it will instead take into consideration all Julia sets which have been downloaded by other people.\\n\\nNote that **in order to use this feature, the option \"send and load Julia sets (community)\"** in the info-modal (press \"i\" or click the question mark in the lower right corner of the screen) **has to be checked**.\\n\\nThis will enable you to load Julia sets downloaded by others and also send the parameters of the sets you download to the server to share with others. No personal information whatsoever will be stored.\\nIn case you **don\\'t want to share** the parameters of the Julia set you are about to download you can **deactivate the option at any time in the settings-menu** (press \"i\" or click on the question mark in the lower right corner).\\n\\n# Parameters\\n\\nThe following parameters can be adjusted to tweak the resulting image\\'s appearance:\\n\\n-   [Julia Coordinates (c value of the Julia set)](#julia-coordinates-c-value-of-the-julia-set)\\n-   [Escape Radius](#escape-radius)\\n-   [Exponent](#exponent)\\n-   [Number of Iterations](#number-of-iterations)\\n-   [Color](#color)\\n\\n### Julia Coordinates (c value of the Julia set)\\n\\nThe Julia Coordinates determine the general shape of the Julia set. They can be adjusted by moving the mouse over the Mandelbrot set (if nothing happens, try pressing \"f\" to make the indicator follow the mouse; Look [here](#usage) for more information about the controls) or entering the values in the corresponding input-fields.\\n\\n|                                           Julia Coordinates of about (0.3159,-0.0421)                                            |                                          Julia Coordinates of about (-1.4808,0.0014)                                           |\\n| :------------------------------------------------------------------------------------------------------------------------------: | :----------------------------------------------------------------------------------------------------------------------------: |\\n| ![](/imgs/juliaCoordinates/JuliaSet_14_7_7_800_2_100_0.315878380105945_-0.04211320165297236_0_0_1.7490062499999999_SC_NL1_0.jpg) | ![](/imgs/juliaCoordinates/JuliaSet_14_7_7_800_2_100_-1.480826496088234_0.0013867962695299548_0_0_24.25420005376_SC_NL1_1.jpg) |\\n\\n```\\nJuliaSet_14_7_7_800_2_100_0.315878380105945_-0.04211320165297236_0_0_1.7490062499999999_SC_NL1_0.png\\n```\\n\\n```\\nJuliaSet_14_7_7_800_2_100_-1.480826496088234_0.0013867962695299548_0_0_24.25420005376_SC_NL1_1.png\\n```\\n\\n### Escape Radius\\n\\nIn order to check whether the aforementioned series diverges to infinity for a given point, we have to define a threshold value after which we \"cut it off\" since the range of 32 or even 64 bit numbers does not quite extend to actual infinity.\\n\\nThough a bit niche, the value of this parameter can have a significant effect on the look of the image:\\n\\n|                                                 Escape Radius of 1.1                                                 |                                                 Escape Radius of 100                                                 |\\n| :------------------------------------------------------------------------------------------------------------------: | :------------------------------------------------------------------------------------------------------------------: |\\n| ![](/imgs/escapeRadius/JuliaSet_9_19_6_800_2_1.1_-0.8463908030557178_0.19997727808059781_0_0_2.0113571875_NL1_0.jpg) | ![](/imgs/escapeRadius/JuliaSet_9_19_6_800_2_100_-0.8463908030557178_0.19997727808059781_0_0_2.0113571875_NL1_0.jpg) |\\n\\n```\\nJuliaSet_9_19_6_800_2_1.1_-0.8463908030557178_0.19997727808059781_0_0_2.0113571875_NL1_0.png\\n```\\n\\n```\\nJuliaSet_9_19_6_800_2_100_-0.8463908030557178_0.19997727808059781_0_0_2.0113571875_NL1_0.png\\n```\\n\\n## Exponent\\n\\nThe exponent (very informally) decides \"the number of branches\". Non-Integer values are allowed.\\n\\n|                                                Exponent of 2                                                |                                                       Exponent of 3                                                       |\\n| :---------------------------------------------------------------------------------------------------------: | :-----------------------------------------------------------------------------------------------------------------------: |\\n| ![](/imgs/exponent/JuliaSet_0_157_255_500_2_100_0.3847086259435044_0.10924501630539399_0_0_1.6_SC_LC_0.jpg) | ![](/imgs/exponent/JuliaSet_0_157_255_500_3_100_0.501419741737431_0.06545088539276347_0_0_1.8400000000000005_SC_LC_0.jpg) |\\n\\n```\\nJuliaSet_0_157_255_500_2_100_0.3847086259435044_0.10924501630539399_0_0_1.6_SC_LC_0.png\\n```\\n\\n```\\nJuliaSet_0_157_255_500_3_100_0.501419741737431_0.06545088539276347_0_0_1.8400000000000005_SC_LC_0.png\\n```\\n\\n(Note that in these images not just the exponent was changed; Since the topology changes, the resulting images in the same position would not look similar. To emphasize the idea behind the exponent the position of the Julia Coordinates has been adjusted between the images)\\n\\n## Number of Iterations\\n\\nThe accuracy with which the fractals are rendered depends not only on the escape radius but also on the number of iterations (i.e. the maximum value of $n$ in the aforementioned formula). Depending on the desired style adjusting the number of iterations can make a big difference on how \"detailed\" the resulting render is going to be:\\n\\n|                                                      nrIterations of 100                                                       |                                                      nrIterations of 1000                                                       |\\n| :----------------------------------------------------------------------------------------------------------------------------: | :-----------------------------------------------------------------------------------------------------------------------------: |\\n| ![](/imgs/nrIterations/JuliaSet_4_11_11_100_2_100_-0.07290343182904654_0.6543711836041501_0_0_1.7490062499999994_SC_NL1_0.jpg) | ![](/imgs/nrIterations/JuliaSet_4_11_11_1000_2_100_-0.07290343182904654_0.6543711836041501_0_0_1.7490062499999994_SC_NL1_0.jpg) |\\n\\n```\\nJuliaSet_4_11_11_100_2_100_-0.07290343182904654_0.6543711836041501_0_0_1.7490062499999994_SC_NL1_0.png\\n```\\n\\n```\\nJuliaSet_4_11_11_1000_2_100_-0.07290343182904654_0.6543711836041501_0_0_1.7490062499999994_SC_NL1_0.png\\n```\\n\\nNaturally, increasing the number of iterations will come with the price of decreased performance, though solely for rendering single frames even iteration counts in the thousands are considerably fast.\\n\\n## Color\\n\\n### Smooth Coloring\\n\\nDespite being able to select the color used for rendering the image, there are certain functions one can apply:\\n\\nWhen using linear coloring methods (Static Orange or Linear RGB) bands of color will appear because of the way the colors are calculated with the escape radius (it essentially boils down to the color values being integers). This can have its own asthetic, however, by enabling Smooth Coloring these bands of color should be (mostly) eliminated (the bands in this image are not that noticeable):\\n\\n|                                                         Smooth Coloring off                                                          |                                                           Smooth Coloring on                                                            |\\n| :----------------------------------------------------------------------------------------------------------------------------------: | :-------------------------------------------------------------------------------------------------------------------------------------: |\\n| ![](/imgs/color/smoothColoring/JuliaSet_33_186_176_300_2_100_-0.780858194066575_0.15140706860098566_0_0_2.0113571874999994_LC_0.jpg) | ![](/imgs/color/smoothColoring/JuliaSet_33_186_176_300_2_100_-0.780858194066575_0.15140706860098566_0_0_2.0113571874999994_SC_LC_0.jpg) |\\n\\n```\\nJuliaSet_33_186_176_300_2_100_-0.780858194066575_0.15140706860098566_0_0_2.0113571874999994_LC_0.png\\n```\\n\\n```\\nJuliaSet_33_186_176_300_2_100_-0.780858194066575_0.15140706860098566_0_0_2.0113571874999994_SC_LC_0.png\\n```\\n\\n### Static Orange and Linear RGB\\n\\nLinear RGB is essentially taking the color value provided via the color picker and directly using it to render the fractal without modifying it any further.\\n\\n|                                                 Linear RGB with value (26,117,0)                                                 |                                               Linear RGB with value (26,11,176)                                                |\\n| :------------------------------------------------------------------------------------------------------------------------------: | :----------------------------------------------------------------------------------------------------------------------------: |\\n| ![](/imgs/color/linearRGB/JuliaSet_26_117_0_300_2_100_-0.780858194066575_0.15140706860098566_0_0_2.0113571874999994_SC_LC_0.jpg) | ![](/imgs/color/linearRGB/JuliaSet_26_11_176_300_2_100_-0.780858194066575_0.15140706860098566_0_0_1.8173403890875361_LC_0.jpg) |\\n\\n```\\nJuliaSet_26_117_0_300_2_100_-0.780858194066575_0.15140706860098566_0_0_2.0113571874999994_SC_LC_0.png\\n```\\n\\n```\\nJuliaSet_26_11_176_300_2_100_-0.780858194066575_0.15140706860098566_0_0_1.8173403890875361_LC_0.png\\n```\\n\\n### Static Orange\\n\\nStatic Orange does not take into account the color value provided but instead is just a static color (orange). The reason this has been included as its own option is simply because I think it looks awesome.\\n\\n| Static Orange |\\n| :-----------------------------------------------------------------------------------------------------------------------------------:\\n| ![](/imgs/color/staticOrange/JuliaSet_33_186_176_300_2_100_-0.780858194066575_0.15140706860098566_0_0_2.0113571874999994_SC_SO_0.jpg)\\n\\n```\\nJuliaSet_33_186_176_300_2_100_-0.780858194066575_0.15140706860098566_0_0_2.0113571874999994_SC_SO_0.png\\n```\\n\\n### Nonlinear 1 and 2\\n\\nOf course there are other ways to compose a color than just taking the input provided by the user and rendering directly from that. Both Nonlinear 1 and 2 take the input color into consideration, but transform it in a nonlinear fashion. That is, don\\'t expect the resulting image to be red simply because you input a red color.\\n\\nThere are of course infinite possibilities when it comes to combining and tinkering with these color values, but for now I have settled on these two. Note that Nonlinear 2 is somewhat special in that it\\'s quite hard to get images which are not completely over the top. It should be considered as more of on \"experimental\" setting. Choosing color values closer to zero makes both Nonlinear 1 and 2 a bit easier to work with.\\n\\n|                                               Nonlinear 1 with value (17,39,33)                                                |                                               Nonlinear 2 with value (0,23,31)                                                |\\n| :----------------------------------------------------------------------------------------------------------------------------: | :---------------------------------------------------------------------------------------------------------------------------: |\\n| ![](/imgs/color/nonlinear/JuliaSet_17_39_33_300_2_100_-0.780858194066575_0.15140706860098566_0_0_2.0113571874999994_NL1_0.jpg) | ![](/imgs/color/nonlinear/JuliaSet_0_23_31_300_2_100_-0.780858194066575_0.15140706860098566_0_0_2.0113571874999994_NL2_0.jpg) |\\n\\n```\\nJuliaSet_17_39_33_300_2_100_-0.780858194066575_0.15140706860098566_0_0_2.0113571874999994_NL1_0.png\\n```\\n\\n```\\nJuliaSet_0_23_31_300_2_100_-0.780858194066575_0.15140706860098566_0_0_2.0113571874999994_NL2_0.png\\n```\\n\\nNote that because of the nonlinearity, enabling Smooth Coloring will not have an effect on Nonlinear 1 and 2.\\n\\n## Double precision using CPU rendering\\n\\nBy default WebGL uses 32 bit floating numbers (single precision). For the majority of use cases this will be plenty, however, when dealing with fractals it imposes a firm limit on how far one can zoom into the fractals before things start to get very pixelated.\\n\\nTake a look at the following image, zoomed to a magnification of ~1183 compared to the initial display:\\n\\n![image of Julia set around position (-0.167, 1.041) with a magnification of ~1183, resulting in a very pixelated image](./imgs/cpuRendering/JuliaSet_26_117_0_500_2_100_-0.16742_1.041285_0.0036808184336753905_-0.0032750417007097353_1183.213490258893_SC_NL1_0.jpg)\\n\\n```\\nJuliaSet_26_117_0_500_2_100_-0.16742_1.041285_0.0036808184336753905_-0.0032750417007097353_1183.213490258893_SC_NL1_0.png\\n```\\n\\nAs you can see, it would probably not quite be categorized as \"sharp\". Note that this is not a problem with the implementation itself; It is an issue arising solely from a lack of precision.\\nTherefore this _can_ be mitigated by increasing the precision. The following image has been rendered using the exact same algorithms, the only difference being the employment of double precision:\\n![sharp image of Julia set around position (-0.167, 1.041) with a magnification of ~1183, rendered on the cpu using double precision](./imgs/cpuRendering/JuliaSet_26_117_0_500_2_100_-0.16742_1.041285_0.0036808184336753905_-0.0032750417007097353_1183.213490258893_SC_NL1_1.jpg)\\n\\n```\\nJuliaSet_26_117_0_500_2_100_-0.16742_1.041285_0.0036808184336753905_-0.0032750417007097353_1183.213490258893_SC_NL1_1.png\\n```\\n\\nThere is a problem, though: WebGL does not natively support double precision. Claiming this to be an insurmountable obstacle would of course be an exaggeration: Naturally, there are ways to emulate double precision in WebGL, but this turns out to be a rather complicated endeavor which I, after some experimentation, for now have deemed to not be worth the effort - especially since we not only need the extra precision but the range as well.\\n\\nThe current (and cognitively cheap) solution is to make use of the fact that any number in JavaScript will be stored using 64 bit, meaning rendering on the CPU will provide us with an abundance of precision. Well, \"abundance\" in the sense that you will be less likely to be running into precision issues than others. Namely, under these new circumstances, the main concern becomes the performance, e.g. the time it takes to render a single frame on the CPU.\\n\\nHere\\'s where things start to become ugly. While even my integrated GPU will happily render at an at least somewhat useable frame rate under reasonable conditions, the CPU (which, remember, does not have access to thousands of cores running in parallel) will take its time and render at a steady <1 FPS. Admittedly, this might still be considered as misleading marketing, as the actual frame rate on my particular machine (AMD Ryzen 7 6800HS Creator Edition) for an image of resolution 3072x1920 will be anywhere in the range from around $0.05=\\\\frac{1}{20}$ to about $0.0025=\\\\frac{1}{400}$ FPS, with even longer rendering times being very possible. This means that in practice I will be waiting anywhere from 20 seconds to multiple minutes for a CPU rendering to complete.\\n\\n### Avoiding pixelation with CPU rendering\\n\\nTo enhance the precision and therefore avoid possibe pixelation of the image when zooming in far, turn on CPU rendering by pressing the associated button in the download preview.\\nTurning CPU rendering on will render the current preview on the CPU **which will take some time**. A small progress bar acts as an indicator. Once you have turned CPU rendering on, simply press the download button to start rendering the final image. This will take **a very long time, not unlikely multiple minutes**.\\n\\nEnabling CPU rendering will not stop you from interacting with the canvas as usual, but keep in mind that this is **tremendously slow** and if you are not running on NASA-level hardware you should probably refrain from trying to actually use this for real-time interaction.\\n\\nInstead, **only activate CPU rendering when you want to download the currently displayed image**. If you have to make any adjustments other than simply centering a certain point (double clicking any point on the canvas will center it and result in only one frame being rendered) you are probably better off just turning the CPU rendering off, making your changes, turning it on again and then downloading your image.\\n\\n## Gallery\\n\\n![](/imgs/gallery/JuliaSet_26_117_0_300_2_100_-0.78014025688_0.14999212609_0_0_2.0113571874999994_SC_SO_0.jpg)\\n\\n```\\nJuliaSet_26_117_0_300_2_100_-0.78014025688_0.14999212609_0_0_2.0113571874999994_SC_SO_0.png\\n```\\n\\n![](/imgs/gallery/JuliaSet_8_196_21_500_2_100_-1.2571894763266953_0.043944953743533605_0_0_1.7490062499999994_SC_LC_0.jpg)\\n\\n```\\nJuliaSet_8_196_21_500_2_100_-1.2571894763266953_0.043944953743533605_0_0_1.7490062499999994_SC_LC_0.png\\n```\\n\\n![](/imgs/gallery/JuliaSet_0_255_255_300_2_100_-0.03520896708_0.68212169768_0_0_1.7_SC_SO_LC_0.jpg)\\n\\n```\\nJuliaSet_0_255_255_300_2_100_-0.03520896708_0.68212169768_0_0_1.7_SC_SO_LC_0.png\\n```\\n\\n![](/imgs/gallery/JuliaSet_29_13_89_400_3_100_0.15189491280043277_0.8262952878431588_0_0.19999999999999996_1.6000000000000005_SC_SO_LC_0.jpg)\\n\\n```\\nJuliaSet_29_13_89_400_3_100_0.15189491280043277_0.8262952878431588_0_0.19999999999999996_1.6000000000000005_SC_SO_LC_0.png\\n```\\n\\n![](/imgs/gallery/JuliaSet_26_117_0_2000_2_100_-0.7496730814324626_0.09462390076501138_0_0_2.0113571875_SC_LC_0.jpg)\\n\\n```\\nJuliaSet_26_117_0_2000_2_100_-0.7496730814324626_0.09462390076501138_0_0_2.0113571875_SC_LC_0.png\\n```\\n\\n![](/imgs/gallery/JuliaSet_26_117_0_2000_2_100_-0.7496730814324626_0.09462390076501138_0.5007149877928196_-0.04815466531405051_28.625176191121408_SC_LC_0.jpg)\\n\\n```\\nJuliaSet_26_117_0_2000_2_100_-0.7496730814324626_0.09462390076501138_0.5007149877928196_-0.04815466531405051_28.625176191121408_SC_LC_0.png\\n```\\n\\n![](/imgs/gallery/JuliaSet_0_5_138_100_1.6_100_0.024453850672851773_0.6251531559765986_-0.34615652901785654_0.45744063654556705_5_SC_LC_0.jpg)\\n\\n```\\nJuliaSet_0_5_138_100_1.6_100_0.024453850672851773_0.6251531559765986_-0.34615652901785654_0.45744063654556705_5_SC_LC_0.png\\n```\\n\\n![](/imgs/gallery/JuliaSet_117_0_0_300_2_100_-0.7475393749688978_-0.2100862511405278_0_0_1.7490062499999997_SC_LC_0.jpg)\\n\\n```\\nJuliaSet_117_0_0_300_2_100_-0.7475393749688978_-0.2100862511405278_0_0_1.7490062499999997_SC_LC_0.png\\n```\\n\\n![](/imgs/gallery/JuliaSet_0_255_98_300_5_100_-0.66998524767_0.10462637826_0_0_1.7_SC_LC_0.jpg)\\n\\n```\\nJuliaSet_0_255_98_300_5_100_-0.66998524767_0.10462637826_0_0_1.7_SC_LC_0.png\\n```\\n\\n![](/imgs/gallery/JuliaSet_26_117_0_300_4_100_-0.24539007092_0.44326241134_0_0_1.6_SC_SO_0.jpg)\\n\\n```\\nJuliaSet_26_117_0_300_4_100_-0.24539007092_0.44326241134_0_0_1.6_SC_SO_0.png\\n```\\n\\n![](/imgs/gallery/JuliaSet_26_117_0_3000_2_100_-0.77788869438_0.11616126527_0_0_2_SC_LC_1.jpg)\\n\\n```\\nJuliaSet_26_117_0_3000_2_100_-0.77788869438_0.11616126527_0_0_2_SC_LC_1.png\\n```\\n\\n![](/imgs/gallery/JuliaSet_66_12_70_300_2.3_100_-0.68721290525_0.41840712662_-0.4505464126740924_0.29732234398657575_10.2_SC_LC_0.jpg)\\n\\n```\\nJuliaSet_66_12_70_300_2.3_100_-0.68721290525_0.41840712662_-0.4505464126740924_0.29732234398657575_10.2_SC_LC_0.png\\n```\\n\\n![](/imgs/gallery/JuliaSet_6_5_5_2000_2_100_-0.7496730814324626_0.09462390076501138_0_0_2.0113571875_SC_NL1_0.jpg)\\n\\n```\\nJuliaSet_6_5_5_2000_2_100_-0.7496730814324626_0.09462390076501138_0_0_2.0113571875_SC_NL1_0.png\\n```\\n\\n![](/imgs/gallery/JuliaSet_10_10_10_300_2_100_-0.16394123239_1.02832470755_0_0_10.485760000000006_NL1_0.jpg)\\n\\n```\\nJuliaSet_10_10_10_300_2_100_-0.16394123239_1.02832470755_0_0_10.485760000000006_NL1_0.png\\n```\\n\\n![](/imgs/gallery/JuliaSet_10_10_11_300_5_100_-0.022375940834254315_-0.6003913825713039_-4.440892098500626e-16_0.10000000000000009_1.7490062499999994_NL1_0.jpg)\\n\\n```\\nJuliaSet_10_10_11_300_5_100_-0.022375940834254315_-0.6003913825713039_-4.440892098500626e-16_0.10000000000000009_1.7490062499999994_NL1_0.png\\n```\\n\\n![](/imgs/gallery/JuliaSet_8_8_8_300_2_100_-1.4022609899720428_-0.0001091379300751788_0_0_1.7490062499999994_NL1_0.jpg)\\n\\n```\\nJuliaSet_8_8_8_300_2_100_-1.4022609899720428_-0.0001091379300751788_0_0_1.7490062499999994_NL1_0.png\\n```\\n\\n![](/imgs/gallery/JuliaSet_10_10_11_300_5_100_-0.022375940834254315_-0.6003913825713039_2.220446049250313e-16_0.10000000000000009_1.7490062499999994_NL2_0.jpg)\\n\\n```\\nJuliaSet_10_10_11_300_5_100_-0.022375940834254315_-0.6003913825713039_2.220446049250313e-16_0.10000000000000009_1.7490062499999994_NL2_0.png\\n```\\n\\n![](/imgs/gallery/JuliaSet_82_82_82_300_2_100_-1.4022609899720428_-0.0001091379300751788_0_0_1.7490062499999994_SC_LC_0.jpg)\\n\\n```\\nJuliaSet_82_82_82_300_2_100_-1.4022609899720428_-0.0001091379300751788_0_0_1.7490062499999994_SC_LC_0.png\\n```\\n\\n![](imgs/gallery/JuliaSet_4_32_27_300_2_100_-0.7914893617_0.15957446808_0_0_2.0113571875_NL1_0.jpg)\\n\\n```\\nJuliaSet_4_32_27_300_2_100_-0.7914893617_0.15957446808_0_0_2.0113571875_NL1_0.png\\n```\\n\\n![](/imgs/gallery/JuliaSet_3_17_18_300_2_100_-0.15170287943117378_-1.0317105973651144_0_0_17_NL1_0.jpg)\\n\\n```\\nJuliaSet_3_17_18_300_2_100_-0.15170287943117378_-1.0317105973651144_0_0_17_NL1_0.png\\n```\\n\\n![](/imgs/gallery/JuliaSet_3_2_2_2000_2_200_0.0025903758029869385_-0.8415233902387567_0.009638394367543851_0.007179008152411894_1844.674407370957_SC_NL1_1.jpg)\\n\\n```\\nJuliaSet_3_2_2_2000_2_200_0.0025903758029869385_-0.8415233902387567_0.009638394367543851_0.007179008152411894_1844.674407370957_SC_NL1_1.png\\n```\\n\\n![](/imgs/gallery/JuliaSet_3_2_2_3000_2_200_0.0025903758029869385_-0.8415233902387567_0.009656971802734473_0.007204487648551581_17261.763739293347_SC_NL1_1.jpg)\\n\\n```\\nJuliaSet_3_2_2_3000_2_200_0.0025903758029869385_-0.8415233902387567_0.009656971802734473_0.007204487648551581_17261.763739293347_SC_NL1_1.png\\n```\\n\\n![](/imgs/gallery/JuliaSet_143_240_164_800_2_100_-0.76691168686_0.100515236_0.019772085877568565_-0.010025942429340951_478_NL1_1.jpg)\\n\\n```\\nJuliaSet_143_240_164_800_2_100_-0.76691168686_0.100515236_0.019772085877568565_-0.010025942429340951_478_NL1_1.png\\n```\\n\\n![](/imgs/gallery/JuliaSet_143_240_164_800_2_100_-0.76691168686_0.100515236_0.004039488060000929_0.005384618199999689_68.719487_NL1_1.jpg)\\n\\n```\\nJuliaSet_143_240_164_800_2_100_-0.76691168686_0.100515236_0.004039488060000929_0.005384618199999689_68.719487_NL1_1.png\\n```\\n\\n![](/imgs/gallery/JuliaSet_143_240_164_800_2_100_-0.76691168686_0.100515236_0_0_323.696221_NL1_1.jpg)\\n\\n```\\nJuliaSet_143_240_164_800_2_100_-0.76691168686_0.100515236_0_0_323.696221_NL1_1.png\\n```\\n\\n![](imgs/gallery/JuliaSet_64_64_64_300_2_100_0.3964912460069005_-0.11114750490363327_-0.3632525081259468_0.4064276521725143_1433.1369664947788_SC_NL1_0.jpg)\\n\\n```\\nJuliaSet_64_64_64_300_2_100_0.3964912460069005_-0.11114750490363327_-0.3632525081259468_0.4064276521725143_1433.1369664947788_SC_NL1_0.png\\n```\\n\\n![](/imgs/gallery/JuliaSet_64_64_64_300_2_100_0.396491246_-0.11114750490363327_-0.36130524106287065_0.4061376851749293_6.152787621294764_NL1_0.jpg)\\n\\n```\\nJuliaSet_64_64_64_300_2_100_0.396491246_-0.11114750490363327_-0.36130524106287065_0.4061376851749293_6.152787621294764_NL1_0.png\\n```\\n\\n![](/imgs/gallery/JuliaSet_33_153_0_800_1.6_1.5_-0.250352790663022_0.000007719731867321736_-0.48337918252933576_0.140760256476548_16.5_NL1_0.jpg)\\n\\n```\\nJuliaSet_33_153_0_800_1.6_1.5_-0.250352790663022_0.000007719731867321736_-0.48337918252933576_0.140760256476548_16.5_NL1_0.png\\n```\\n\\n![](/imgs/gallery/JuliaSet_33_153_0_800_1.6_1.5_-0.250352790663022_0.000007719731867321736_-0.48361040284183265_0.13917462789789015_80000_NL1_1.jpg)\\n\\n```\\nJuliaSet_33_153_0_800_1.6_1.5_-0.250352790663022_0.000007719731867321736_-0.48361040284183265_0.13917462789789015_80000_NL1_1.png\\n```\\n\\n![](/imgs/gallery/JuliaSet_87_46_0_300_2_100_-1.732003181528324_0.0005689846081828028_0_0_292.4722788690716_NL1_1.jpg)\\n\\n```\\nJuliaSet_87_46_0_300_2_100_-1.732003181528324_0.0005689846081828028_0_0_292.4722788690716_NL1_1.png\\n```\\n\\n![](/imgs/gallery/JuliaSet_87_46_0_300_2_100_-1.732003181528324_0.0005689846081828028_4.336808689942018e-19_0_1170_NL1_1.jpg)\\n\\n```\\nJuliaSet_87_46_0_300_2_100_-1.732003181528324_0.0005689846081828028_4.336808689942018e-19_0_1170_NL1_1.png\\n```\\n\\n![](/imgs/gallery/JuliaSet_28_43_23_300_2_100_-1.7320181472671567_-0.00005375297762086844_0.004712710038807938_0.004132359312459068_676.506153284983_NL1_1.jpg)\\n\\n```\\nJuliaSet_28_43_23_300_2_100_-1.7320181472671567_-0.00005375297762086844_0.004712710038807938_0.004132359312459068_676.506153284983_NL1_1.png\\n```\\n\\n![](/imgs/gallery/JuliaSet_3_2_2_800_2_200_0.003099169998155022_-0.8415373683947535_0_0_49.39212390400001_SC_NL1_0.jpg)\\n\\n```\\nJuliaSet_3_2_2_800_2_200_0.003099169998155022_-0.8415373683947535_0_0_49.39212390400001_SC_NL1_0.png\\n```\\n\\n![](/imgs/gallery/JuliaSet_12_8_8_300_2_100_-0.15450244843651126_-1.030915463226788_0_0_16.36653739294609_NL1_1.jpg)\\n\\n```\\nJuliaSet_12_8_8_300_2_100_-0.15450244843651126_-1.030915463226788_0_0_16.36653739294609_NL1_1.png\\n```\\n\\n![](/imgs/gallery/JuliaSet_12_8_8_800_2_100_-0.16742_1.041285_0_0_221.15106152670825_SC_NL1_1.jpg)\\n\\n```\\nJuliaSet_12_8_8_800_2_100_-0.16742_1.041285_0_0_221.15106152670825_SC_NL1_1.png\\n```\\n\\n![](/imgs/gallery/JuliaSet_3_7_7_1000_2_200_0.002882185548504547_-0.8418782290900625_0_0_1152.921504606848_SC_NL1_1.jpg)\\n\\n```\\nJuliaSet_3_7_7_1000_2_200_0.002882185548504547_-0.8418782290900625_0_0_1152.921504606848_SC_NL1_1.png\\n```\\n\\n![](/imgs/gallery/JuliaSet_26_117_0_800_2_100_-0.7549402128886705_-0.06970267577711599_0_0_2.0113571874999994_SC_NL1_0.jpg)\\n\\n```\\nJuliaSet_26_117_0_800_2_100_-0.7549402128886705_-0.06970267577711599_0_0_2.0113571874999994_SC_NL1_0.png\\n```\\n\\n![](/imgs/gallery/JuliaSet_51_30_0_300_2_100_-0.21662323832659428_0.67901111222664_0_0_63_NL1_1.jpg)\\n\\n```\\nJuliaSet_51_30_0_300_2_100_-0.21662323832659428_0.67901111222664_0_0_63_NL1_1.png\\n```\\n\\n![](/imgs/gallery/JuliaSet_50_34_73_300_2_100_-0.10992117262385923_-0.6493566978792168_0.27425751438834145_0.23067446202430192_634.4004191673284_NL1_1.jpg)\\n\\n```\\nJuliaSet_50_34_73_300_2_100_-0.10992117262385923_-0.6493566978792168_0.27425751438834145_0.23067446202430192_634.4004191673284_NL1_1.png\\n```\\n\\n![](/imgs/gallery/JuliaSet_26_117_0_500_2_100_-0.16742077184165358_1.0412805126283333_0.0025636070166733423_-0.0027696611654754698_684.9412083277107_NL1_1.jpg)\\n\\n```\\nJuliaSet_26_117_0_500_2_100_-0.16742077184165358_1.0412805126283333_0.0025636070166733423_-0.0027696611654754698_684.9412083277107_NL1_1.png\\n```\\n\\n![](/imgs/gallery/JuliaSet_26_117_0_800_2_100_-1.7490147783251233_0_0_0_12.37545360525224_SC_NL1_0.jpg)\\n\\n```\\nJuliaSet_26_117_0_800_2_100_-1.7490147783251233_0_0_0_12.37545360525224_SC_NL1_0.png\\n```\\n\\n![](/imgs/gallery/JuliaSet_17_77_0_800_2_100_-0.7718575599396327_0.1256264026270783_0.22664876374966858_0.2291911494640187_39.290583859262966_SC_LC_NL1.jpg)\\n\\n```\\nJuliaSet_17_77_0_800_2_100_-0.7718575599396327_0.1256264026270783_0.22664876374966858_0.2291911494640187_39.290583859262966_SC_LC_NL1.png\\n```\\n\\n![](/imgs/gallery/JuliaSet_21_97_0_300_2_100_-0.23105193815979266_0.691394452200187_-0.3132332291843954_0.42493066485744435_110_NL1_0.jpg)\\n\\n```\\nJuliaSet_21_97_0_300_2_100_-0.23105193815979266_0.691394452200187_-0.3132332291843954_0.42493066485744435_110_NL1_0.png\\n```\\n\\n![](/imgs/gallery/JuliaSet_28_13_13_800_2_100_-0.039716312056737646_0.6737588652482269_0.23415854718457418_0.05605793300612717_71_NL1_0.jpg)\\n\\n```\\nJuliaSet_28_13_13_800_2_100_-0.039716312056737646_0.6737588652482269_0.23415854718457418_0.05605793300612717_71_NL1_0.png\\n```\\n\\n![](/imgs/gallery/JuliaSet_12_8_8_300_3_100_0.002241051209661497_1.097510307468028_-4.440892098500626e-16_0.1999999999999993_1.7490062499999994_NL1_0.jpg)\\n\\n```\\nJuliaSet_12_8_8_300_3_100_0.002241051209661497_1.097510307468028_-4.440892098500626e-16_0.1999999999999993_1.7490062499999994_NL1_0.png\\n```\\n\\n![](/imgs/gallery/JuliaSet_12_8_8_300_3_100_0.40832336029491056_-0.005544262393407884_0_0_1.7490062499999994_NL1_1.jpg)\\n\\n```\\nJuliaSet_12_8_8_300_3_100_0.40832336029491056_-0.005544262393407884_0_0_1.7490062499999994_NL1_1.png\\n```\\n']\n",
      "The code for drawing the fractals to the screen is not explicitly provided in the given text. However, I can provide a general overview of how fractals like Julia sets are typically drawn to the screen using programming languages like JavaScript, along with relevant code snippets.\n",
      "\n",
      "### Drawing Fractals\n",
      "\n",
      "To draw a fractal like the Julia set, you would typically follow these steps:\n",
      "\n",
      "1. **Define the fractal formula**: The Julia set is defined by the formula `z = z^2 + c`, where `z` and `c` are complex numbers.\n",
      "2. **Initialize the canvas**: Create a 2D canvas or rendering context to draw the fractal.\n",
      "3. **Iterate over each pixel**: Iterate over each pixel on the canvas and calculate the corresponding complex number `z` based on the pixel's coordinates.\n",
      "4. **Apply the fractal formula**: Apply the fractal formula to `z` and check if the magnitude of `z` exceeds a certain threshold (the escape radius).\n",
      "5. **Color the pixel**: If the magnitude of `z` exceeds the threshold, color the pixel based on the number of iterations it took for `z` to escape.\n",
      "6. **Repeat for all pixels**: Repeat the process for all pixels on the canvas to create the fractal image.\n",
      "\n",
      "### Code Snippet\n",
      "\n",
      "Here's a basic example of how you might draw a Julia set using JavaScript and the HTML5 canvas element:\n",
      "```javascript\n",
      "const canvas = document.getElementById('canvas');\n",
      "const ctx = canvas.getContext('2d');\n",
      "\n",
      "// Define the fractal parameters\n",
      "const c = { x: -0.8, y: 0.156 };\n",
      "const maxIterations = 100;\n",
      "const escapeRadius = 2;\n",
      "\n",
      "// Draw the fractal\n",
      "for (let x = 0; x < canvas.width; x++) {\n",
      "  for (let y = 0; y < canvas.height; y++) {\n",
      "    const zx = (x - canvas.width / 2) * 3 / canvas.width;\n",
      "    const zy = (y - canvas.height / 2) * 3 / canvas.height;\n",
      "    const z = { x: zx, y: zy };\n",
      "\n",
      "    let iteration = 0;\n",
      "    while (iteration < maxIterations && Math.hypot(z.x, z.y) < escapeRadius) {\n",
      "      const temp = z.x * z.x - z.y * z.y + c.x;\n",
      "      z.y = 2 * z.x * z.y + c.y;\n",
      "      z.x = temp;\n",
      "      iteration++;\n",
      "    }\n",
      "\n",
      "    // Color the pixel based on the number of iterations\n",
      "    const color = iteration / maxIterations * 255;\n",
      "    ctx.fillStyle = `rgb(${color}, ${color}, ${color})`;\n",
      "    ctx.fillRect(x, y, 1, 1);\n",
      "  }\n",
      "}\n",
      "```\n",
      "Note that this is a very basic example and you may want to add additional features such as zooming, panning, and color gradients to create a more visually appealing fractal image.\n",
      "\n",
      "In the context of the provided text, the code for drawing the fractals is likely more complex and may involve additional features such as:\n",
      "\n",
      "* Using WebGL for GPU-accelerated rendering\n",
      "* Implementing double precision arithmetic for increased accuracy\n",
      "* Using color gradients and other visual effects to enhance the appearance of the fractal\n",
      "* Providing interactive controls for zooming, panning, and adjusting fractal parameters\n",
      "\n",
      "However, without more information or code, it's difficult to provide a more specific example of how the fractals are drawn to the screen.\n"
     ]
    }
   ],
   "source": [
    "clone_and_read(\"https://github.com/syn-ce/juliasetexplorer\", \"How are the fractals drawn to the screen? Reference relevant code snippets\")\n",
    "#clone_and_read(\"https://github.com/getml/getml-community\", \"How is the fastprop algorithm implemented?\")"
   ]
  },
  {
   "cell_type": "code",
   "execution_count": 61,
   "id": "2a7d99d4",
   "metadata": {},
   "outputs": [
    {
     "name": "stdout",
     "output_type": "stream",
     "text": [
      "['/home/julian/dev/ask-my-repo/flask-service/temp/README.md', '/home/julian/dev/ask-my-repo/flask-service/temp/index.html', '/home/julian/dev/ask-my-repo/flask-service/temp/style.css']\n",
      "['# Flappy-Evolve\\nAn implementation of the genetic algorithm for learning Flappy Bird, using plain HTML and JavaScript.\\nTry it out here:  \\nhttps://itsmejul.github.io/flappy-evolve/\\n\\n## Running locally\\nYou can clone this repo via  \\n```\\ngit clone git@github.com:itsmejul/flappy-evolve.git\\n```\\nThen, run it by starting a http server, for example using python:\\n```\\npython -m http.server 8000\\n```\\nAnd then visit ``http://localhost:8000`` in your browser to see the simulation.\\n\\n## Evolution of the birds\\nEach \"bird\" consists of a small MLP with just one hidden layer, which will, during inference, receive the selected input features as inputs. The MLP has one output neuron where we use a sigmoid function to decide whether it should activate or not, based on the inputs. We run this inference once every frame for every bird.\\nThe genome of each bird is represented by an Array of length (input_size*hidden_size + hidden_size + hidden_size * output_size * output_size), which contains all the weights for the weights and biases.\\nEach epoch, we save the score (how long did a bird survive?) for each bird, and then run the genetic algorithm accordingly.\\n## Algorithm\\nFor the first epoch, all genomes are created randomly. For each folliowing epoch, we create the next generation by running the genetic algorithm, which consists of these steps:\\n* Selection: We select the top-k best performing individuals\\n* Crossover: We breed the next generation by pickung two parents from the selected top-k birds, and then randomly combining their weights\\n* Mutation: Finally, for each weight in each genome, there is a small chance that it will be modified by a small value\\n\\n## Challenges\\nIt is not trivial to find a balance between more mutation per epoch and more stable epochs.\\nIf the birds converge too fast (because there is not enough variety in the crossover parents or not enough mutation), then there is a high likelihood to land in a local\\nminimum. In that case, the parameters are too strict and it is not possible for the birds to mutate in a way to leave that local minimum.\\n\\nOn the other hand, if we allow too much mutation, we might not converge at all, even if we find a \"perfect\" individual. In this case, some percentage of the population will die at the start of every epoch, because the random mutations can produce individuals which perform worse than the best-performing individuals of the previous generation.\\n', '<!DOCTYPE html>\\n<html>\\n<head>\\n  <title>Flappy Evolve</title>\\n  <style>\\n    canvas { border:1px solid black; display:block; margin:auto }\\n  </style>\\n  \\n  <link rel=\"stylesheet\" href=\"style.css\" >\\n</head>\\n<body>\\n  <div class=\"wrapper\">\\n  <div class=\"panel\">\\n  <canvas id=\"gameCanvas\" width=\"600\" height=\"600\"></canvas>\\n  </div>\\n  <div class=\"panel\">\\n  <p id=\"epoch\"></p>\\n  <p id=\"alivecount\"></p>\\n  <p id = \"score\"></p>\\n  <button id=\"pauseButton\">Play/Pause</button>\\n    <div class=\"subpanel\">\\n    <div class=\"subpanel-title\">Change Simulation Parameters</div>\\n  <label for=\"numBirdsSelect\">Number of birds per epoch:</label>\\n  <select id=\"numBirdsSelect\">\\n    <option value=\"50\">50</option>\\n    <option value=\"100\">100</option>\\n    <option value=\"200\">200</option>\\n  </select>\\n  <label for=\"hiddenSizeSelect\">Size of MLP hidden layer:</label>\\n  <select id=\"hiddenSizeSelect\">\\n    <option value=\"2\">2</option>\\n    <option value=\"3\">3</option>\\n    <option value=\"4\">4</option>\\n    <option value=\"5\">5</option>\\n  </select>\\n  <div class=\"subpanel-title\">Select input features</div>\\n  <form id=\"inputFeaturesSelect\">\\n    <label><input type=\"checkbox\" name=\"inputFeatures\" value=\"cHeight\">Bird height</label><br>\\n    <label><input type=\"checkbox\" name=\"inputFeatures\" value=\"pHeight\">Next pipe height</label><br>\\n    <label><input type=\"checkbox\" name=\"inputFeatures\" value=\"distance\" checked>Distance to next pipe</label><br>\\n    <label><input type=\"checkbox\" name=\"inputFeatures\" value=\"diff\" checked>Height difference to next pipe</label><br>\\n    <label><input type=\"checkbox\" name=\"inputFeatures\" value=\"velocity\" unchecked>Bird velocity</label><br>\\n  </form>\\n\\n  <p>Restart the simulation for changed parameters to take effect</p>\\n  <button id=\"restartButton\">Restart</button>\\n  <script type=\"module\" src=\"./src/main.js\"></script>\\n  </div>\\n  </div>\\n  <link rel=\"icon\" href=\"data:,\">\\n</body>\\n</html>\\n\\n', 'body {\\n  background-color: #eaeaea;\\n  font-family: monospace;\\n}\\n.wrapper {\\n    margin: auto;\\n    display: flex;\\n    align-items: stretch; /* ensures same height */\\n    gap: 1em;\\n    justify-content: center;\\n}\\ncanvas {\\n  display: block;\\n  width: 600px;\\n  height: 600px;\\n}\\n.canvas-div {\\n  display: inline-block;\\n  width: 600px;\\n  margin: 2em auto;\\n  padding: 1.5em;\\n  background-color: #fff;\\n  border: 2px solid #000;\\n  border-radius: 0;\\n  box-shadow: 4px 4px 0 #000;\\n  color: #111;\\n}\\n\\n.panel {\\n  display: inline-block;\\n  width: 600px;\\n  margin: 2em 0;\\n  padding: 1.5em;\\n  background-color: #fff;\\n  border: 2px solid #000;\\n  border-radius: 0;\\n  box-shadow: 4px 4px 0 #000;\\n  color: #111;\\n}\\n\\n.subpanel {\\n  margin-top: 1.2em;\\n  padding: 1em;\\n  border: 2px dashed #444;\\n  background-color: #fdfdfd;\\n}\\n\\n.subpanel-title {\\n  font-weight: bold;\\n  margin-bottom: 0.5em;\\n  border-bottom: 1px solid #444;\\n  padding-bottom: 0.2em;\\n}\\n\\np {\\n  margin: 0.5em 0;\\n}\\n\\nlabel {\\n  display: block;\\n  margin: 0.4em 0;\\n}\\n\\nselect {\\n  display: block;\\n  width: 100%;\\n  margin-top: 0.2em;\\n  margin-bottom: 1em;\\n  padding: 0.3em;\\n  border: 1px solid #000;\\n  background-color: #fefefe;\\n  font-family: monospace;\\n}\\n\\ninput[type=\"checkbox\"] {\\n  margin-right: 0.5em;\\n}\\n\\nbutton {\\n  font-family: monospace;\\n  background-color: #ccc;\\n  border: 2px solid #000;\\n  padding: 0.4em 1em;\\n  margin-top: 1em;\\n  cursor: pointer;\\n  box-shadow: 2px 2px 0 #000;\\n}\\n\\nbutton:hover {\\n  background-color: #bbb;\\n}\\n']\n",
      "The jumping of the birds and the gravity implementation in the Flappy Bird game are not explicitly described in the provided code snippets. However, I can provide a general explanation of how these features are typically implemented in a Flappy Bird game.\n",
      "\n",
      "### Jumping Mechanism\n",
      "\n",
      "The jumping mechanism in Flappy Bird is usually implemented using a simple physics-based approach. Here's a high-level overview of how it works:\n",
      "\n",
      "1. **Initial Velocity**: When the bird jumps, it is given an initial upward velocity.\n",
      "2. **Gravity**: The bird is constantly being pulled downwards by gravity, which is simulated by applying a downward acceleration to the bird's velocity.\n",
      "3. **Velocity Update**: On each frame, the bird's velocity is updated based on the gravity acceleration.\n",
      "4. **Position Update**: The bird's position is updated based on its velocity.\n",
      "\n",
      "### Gravity Implementation\n",
      "\n",
      "Gravity is typically implemented using a constant acceleration value, which is applied to the bird's velocity on each frame. The gravity acceleration value is usually set to a small negative value (e.g., -0.5 pixels per frame squared) to simulate the downward pull of gravity.\n",
      "\n",
      "Here's some sample JavaScript code to illustrate the jumping mechanism and gravity implementation:\n",
      "```javascript\n",
      "// Bird object\n",
      "let bird = {\n",
      "  x: 100,\n",
      "  y: 100,\n",
      "  vy: 0, // initial velocity\n",
      "  gravity: -0.5, // gravity acceleration\n",
      "  jumpVelocity: 10, // initial jump velocity\n",
      "};\n",
      "\n",
      "// Update bird position and velocity\n",
      "function updateBird() {\n",
      "  // Apply gravity to velocity\n",
      "  bird.vy += bird.gravity;\n",
      "\n",
      "  // Update bird position based on velocity\n",
      "  bird.y += bird.vy;\n",
      "}\n",
      "\n",
      "// Make the bird jump\n",
      "function jump() {\n",
      "  bird.vy = -bird.jumpVelocity; // set initial jump velocity\n",
      "}\n",
      "\n",
      "// Main game loop\n",
      "function gameLoop() {\n",
      "  updateBird();\n",
      "  // Render the bird at its new position\n",
      "  // ...\n",
      "}\n",
      "\n",
      "// Handle user input (e.g., jump button press)\n",
      "function handleInput() {\n",
      "  if (jumpButtonPressed) {\n",
      "    jump();\n",
      "  }\n",
      "}\n",
      "```\n",
      "Note that this is a highly simplified example and may not be exactly how the Flappy Bird game implements jumping and gravity. However, it should give you a general idea of how these features can be implemented using basic physics and velocity updates.\n",
      "\n",
      "In the context of the provided code snippets, the actual implementation of jumping and gravity may be hidden within the `src/main.js` file, which is not included in the provided code. You would need to examine the code in `main.js` to see how the jumping and gravity mechanisms are implemented.\n"
     ]
    }
   ],
   "source": [
    "clone_and_read(\"https://github.com/itsmejul/flappy-evolve\", \"How is the jumping of the birds and the gravity implemented?\")"
   ]
  }
 ],
 "metadata": {
  "kernelspec": {
   "display_name": "ask-my-repo-env",
   "language": "python",
   "name": "python3"
  },
  "language_info": {
   "codemirror_mode": {
    "name": "ipython",
    "version": 3
   },
   "file_extension": ".py",
   "mimetype": "text/x-python",
   "name": "python",
   "nbconvert_exporter": "python",
   "pygments_lexer": "ipython3",
   "version": "3.11.11"
  }
 },
 "nbformat": 4,
 "nbformat_minor": 5
}
