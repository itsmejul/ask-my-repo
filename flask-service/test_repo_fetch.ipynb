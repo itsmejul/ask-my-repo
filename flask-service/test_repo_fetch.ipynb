{
 "cells": [
  {
   "cell_type": "code",
   "execution_count": 38,
   "id": "8e8e9a46",
   "metadata": {},
   "outputs": [],
   "source": [
    "import subprocess\n",
    "from pathlib import Path\n",
    "\n",
    "def clone_repo(repo_url: str, target_dir: str):\n",
    "    subprocess.run([\"git\", \"clone\", \"--depth\", \"1\", repo_url, target_dir], check=True)\n",
    "    tempPath = Path(target_dir)\n",
    "    gitPath = tempPath / \".git\"\n",
    "    subprocess.run([\"rm\", \"-rf\", gitPath], check=True)\n"
   ]
  },
  {
   "cell_type": "code",
   "execution_count": 39,
   "id": "f64b9159",
   "metadata": {},
   "outputs": [],
   "source": [
    "def read_dir_rec(dir_path):\n",
    "    from pathlib import Path\n",
    "    root = Path(dir_path)\n",
    "    for child in root.iterdir():\n",
    "        if child.is_file():\n",
    "            print(f\"File: {root / child.name}\")\n",
    "        elif child.is_dir():\n",
    "            print(f\"Directory: {child.name}\")\n",
    "            read_dir_rec(root / child.name)"
   ]
  },
  {
   "cell_type": "code",
   "execution_count": 40,
   "id": "5827f7e3",
   "metadata": {},
   "outputs": [],
   "source": [
    "def clone_and_read(repo_url):\n",
    "    clone_repo(repo_url=repo_url, target_dir=\"./temp\")\n",
    "    read_dir_rec(\"./temp\")\n",
    "    subprocess.run([\"rm\", \"-rf\", \"./temp\"])"
   ]
  },
  {
   "cell_type": "code",
   "execution_count": 41,
   "id": "2a7d99d4",
   "metadata": {},
   "outputs": [
    {
     "name": "stderr",
     "output_type": "stream",
     "text": [
      "Cloning into './temp'...\n"
     ]
    },
    {
     "name": "stdout",
     "output_type": "stream",
     "text": [
      "Directory: src\n",
      "File: temp/src/pipe.js\n",
      "File: temp/src/main.js\n",
      "File: temp/src/bird.js\n",
      "File: temp/src/consts.js\n",
      "File: temp/src/mlp.js\n",
      "File: temp/src/genetic_utils.js\n",
      "File: temp/index.html\n",
      "File: temp/style.css\n",
      "File: temp/README.md\n"
     ]
    }
   ],
   "source": [
    "clone_and_read(\"https://github.com/itsmejul/flappy-evolve\")"
   ]
  }
 ],
 "metadata": {
  "kernelspec": {
   "display_name": ".venv",
   "language": "python",
   "name": "python3"
  },
  "language_info": {
   "codemirror_mode": {
    "name": "ipython",
    "version": 3
   },
   "file_extension": ".py",
   "mimetype": "text/x-python",
   "name": "python",
   "nbconvert_exporter": "python",
   "pygments_lexer": "ipython3",
   "version": "3.12.9"
  }
 },
 "nbformat": 4,
 "nbformat_minor": 5
}
